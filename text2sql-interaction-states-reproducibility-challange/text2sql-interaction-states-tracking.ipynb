{
  "cells": [
    {
      "attachments": {},
      "cell_type": "markdown",
      "metadata": {
        "id": "lyciaheQzJGa"
      },
      "source": [
        "# Preprocessing and featurizing train data"
      ]
    },
    {
      "cell_type": "code",
      "execution_count": null,
      "metadata": {
        "colab": {
          "base_uri": "https://localhost:8080/"
        },
        "id": "95YQteDO9ie3",
        "outputId": "e29b26ad-7495-4368-d39c-04225a0e9ca2"
      },
      "outputs": [
        {
          "name": "stdout",
          "output_type": "stream",
          "text": [
            "Collecting jsonlines\n",
            "  Downloading jsonlines-2.0.0-py3-none-any.whl (6.3 kB)\n",
            "Installing collected packages: jsonlines\n",
            "Successfully installed jsonlines-2.0.0\n"
          ]
        }
      ],
      "source": [
        "!pip install jsonlines"
      ]
    },
    {
      "cell_type": "code",
      "execution_count": null,
      "metadata": {
        "id": "Qn1RWFtS-PJ4"
      },
      "outputs": [],
      "source": [
        "#Loading Json Train Data\n",
        "import jsonlines\n",
        "phase=[]\n",
        "table_id=[]\n",
        "question=[]\n",
        "sql=[]\n",
        "with jsonlines.open(\"train.jsonl\") as f:\n",
        "  for line in f.iter():\n",
        "    phase.append(line['phase'])\n",
        "    table_id.append(line['table_id'])\n",
        "    question.append(line['question'])\n",
        "    sql.append(line['sql'])\n",
        "import pandas as pd\n",
        "d={'phase':phase,'table_id':table_id,'question':question,'sql':sql}\n",
        "train_data=pd.DataFrame(d)\n",
        "train_data\n",
        "f.close()"
      ]
    },
    {
      "cell_type": "code",
      "execution_count": null,
      "metadata": {
        "id": "ifdVVo2sCd2H"
      },
      "outputs": [],
      "source": [
        "train_data.columns=['phase','id','question','sql']"
      ]
    },
    {
      "cell_type": "code",
      "execution_count": null,
      "metadata": {
        "colab": {
          "base_uri": "https://localhost:8080/",
          "height": 417
        },
        "id": "ctHw9UJV-VnU",
        "outputId": "5a829a25-a54d-46b6-eb8f-c37c62c3d198"
      },
      "outputs": [
        {
          "data": {
            "text/html": [
              "<div>\n",
              "<style scoped>\n",
              "    .dataframe tbody tr th:only-of-type {\n",
              "        vertical-align: middle;\n",
              "    }\n",
              "\n",
              "    .dataframe tbody tr th {\n",
              "        vertical-align: top;\n",
              "    }\n",
              "\n",
              "    .dataframe thead th {\n",
              "        text-align: right;\n",
              "    }\n",
              "</style>\n",
              "<table border=\"1\" class=\"dataframe\">\n",
              "  <thead>\n",
              "    <tr style=\"text-align: right;\">\n",
              "      <th></th>\n",
              "      <th>id</th>\n",
              "      <th>header</th>\n",
              "      <th>types</th>\n",
              "      <th>rows</th>\n",
              "    </tr>\n",
              "  </thead>\n",
              "  <tbody>\n",
              "    <tr>\n",
              "      <th>0</th>\n",
              "      <td>1-1000181-1</td>\n",
              "      <td>[State/territory, Text/background colour, Form...</td>\n",
              "      <td>[text, text, text, text, text, text]</td>\n",
              "      <td>[[Australian Capital Territory, blue/white, Ya...</td>\n",
              "    </tr>\n",
              "    <tr>\n",
              "      <th>1</th>\n",
              "      <td>1-10006830-1</td>\n",
              "      <td>[Aircraft, Description, Max Gross Weight, Tota...</td>\n",
              "      <td>[text, text, text, text, text]</td>\n",
              "      <td>[[Robinson R-22, Light utility helicopter, 1,3...</td>\n",
              "    </tr>\n",
              "    <tr>\n",
              "      <th>2</th>\n",
              "      <td>1-10007452-3</td>\n",
              "      <td>[Order Year, Manufacturer, Model, Fleet Series...</td>\n",
              "      <td>[text, text, text, text, text, text]</td>\n",
              "      <td>[[1992-93, Gillig, Phantom (High Floor), 444-4...</td>\n",
              "    </tr>\n",
              "    <tr>\n",
              "      <th>3</th>\n",
              "      <td>1-10015132-1</td>\n",
              "      <td>[Player, No., Nationality, Position, Years in ...</td>\n",
              "      <td>[text, text, text, text, text, text]</td>\n",
              "      <td>[[Quincy Acy, 4, United States, Forward, 2012-...</td>\n",
              "    </tr>\n",
              "    <tr>\n",
              "      <th>4</th>\n",
              "      <td>1-10015132-14</td>\n",
              "      <td>[Player, No., Nationality, Position, Years in ...</td>\n",
              "      <td>[text, real, text, text, text, text]</td>\n",
              "      <td>[[Patrick O'Bryant, 13, United States, Center,...</td>\n",
              "    </tr>\n",
              "    <tr>\n",
              "      <th>...</th>\n",
              "      <td>...</td>\n",
              "      <td>...</td>\n",
              "      <td>...</td>\n",
              "      <td>...</td>\n",
              "    </tr>\n",
              "    <tr>\n",
              "      <th>18580</th>\n",
              "      <td>2-18998832-2</td>\n",
              "      <td>[Game, Date, Opponent, Venue, Result, Attendance]</td>\n",
              "      <td>[real, text, text, text, text, real]</td>\n",
              "      <td>[[1, 15 August 1987, Swindon Town, Home, 2–0, ...</td>\n",
              "    </tr>\n",
              "    <tr>\n",
              "      <th>18581</th>\n",
              "      <td>2-18998832-5</td>\n",
              "      <td>[Round (Leg), Date, Opponent, Venue, Result, A...</td>\n",
              "      <td>[text, text, text, text, text, real]</td>\n",
              "      <td>[[2 (1), 22 September 1987, Fulham, Away, 5–1,...</td>\n",
              "    </tr>\n",
              "    <tr>\n",
              "      <th>18582</th>\n",
              "      <td>2-19001175-1</td>\n",
              "      <td>[Country, Seasons, Championship Titles, Race e...</td>\n",
              "      <td>[text, text, text, text, real, real, real, rea...</td>\n",
              "      <td>[[United Kingdom, 1986, 0, 1, 0, 0, 0, 0, 0], ...</td>\n",
              "    </tr>\n",
              "    <tr>\n",
              "      <th>18583</th>\n",
              "      <td>2-19008019-32</td>\n",
              "      <td>[!Event, Round, Surface, Winner, Opponent, Res...</td>\n",
              "      <td>[real, text, text, text, text, text]</td>\n",
              "      <td>[[1., Wimbledon, Final, Grass, Roger Federer, ...</td>\n",
              "    </tr>\n",
              "    <tr>\n",
              "      <th>18584</th>\n",
              "      <td>2-19008977-1</td>\n",
              "      <td>[Name, Premier League, League Cup, FA Cup, UEF...</td>\n",
              "      <td>[text, real, real, real, real, real]</td>\n",
              "      <td>[[Tim Cahill Category:Articles with hCards, 8,...</td>\n",
              "    </tr>\n",
              "  </tbody>\n",
              "</table>\n",
              "<p>18585 rows × 4 columns</p>\n",
              "</div>"
            ],
            "text/plain": [
              "                  id  ...                                               rows\n",
              "0        1-1000181-1  ...  [[Australian Capital Territory, blue/white, Ya...\n",
              "1       1-10006830-1  ...  [[Robinson R-22, Light utility helicopter, 1,3...\n",
              "2       1-10007452-3  ...  [[1992-93, Gillig, Phantom (High Floor), 444-4...\n",
              "3       1-10015132-1  ...  [[Quincy Acy, 4, United States, Forward, 2012-...\n",
              "4      1-10015132-14  ...  [[Patrick O'Bryant, 13, United States, Center,...\n",
              "...              ...  ...                                                ...\n",
              "18580   2-18998832-2  ...  [[1, 15 August 1987, Swindon Town, Home, 2–0, ...\n",
              "18581   2-18998832-5  ...  [[2 (1), 22 September 1987, Fulham, Away, 5–1,...\n",
              "18582   2-19001175-1  ...  [[United Kingdom, 1986, 0, 1, 0, 0, 0, 0, 0], ...\n",
              "18583  2-19008019-32  ...  [[1., Wimbledon, Final, Grass, Roger Federer, ...\n",
              "18584   2-19008977-1  ...  [[Tim Cahill Category:Articles with hCards, 8,...\n",
              "\n",
              "[18585 rows x 4 columns]"
            ]
          },
          "execution_count": 4,
          "metadata": {},
          "output_type": "execute_result"
        }
      ],
      "source": [
        "import jsonlines\n",
        "id=[]\n",
        "header=[]\n",
        "types=[]\n",
        "rows=[]\n",
        "with jsonlines.open(\"train.tables.jsonl\") as f:\n",
        "  for line in f.iter():\n",
        "    id.append((line['id']))\n",
        "    header.append((line['header']))\n",
        "    types.append((line['types']))\n",
        "    rows.append(line['rows'])\n",
        "d={'id':id,'header':header,'types':types,'rows':rows}\n",
        "train_table_info=pd.DataFrame(d)\n",
        "train_table_info"
      ]
    },
    {
      "cell_type": "code",
      "execution_count": null,
      "metadata": {
        "colab": {
          "base_uri": "https://localhost:8080/",
          "height": 585
        },
        "id": "GElM5JzwBNEp",
        "outputId": "b30adba0-050e-4855-cae9-506cd132f878"
      },
      "outputs": [
        {
          "data": {
            "text/html": [
              "<div>\n",
              "<style scoped>\n",
              "    .dataframe tbody tr th:only-of-type {\n",
              "        vertical-align: middle;\n",
              "    }\n",
              "\n",
              "    .dataframe tbody tr th {\n",
              "        vertical-align: top;\n",
              "    }\n",
              "\n",
              "    .dataframe thead th {\n",
              "        text-align: right;\n",
              "    }\n",
              "</style>\n",
              "<table border=\"1\" class=\"dataframe\">\n",
              "  <thead>\n",
              "    <tr style=\"text-align: right;\">\n",
              "      <th></th>\n",
              "      <th>phase</th>\n",
              "      <th>id</th>\n",
              "      <th>question</th>\n",
              "      <th>sql</th>\n",
              "      <th>header</th>\n",
              "      <th>types</th>\n",
              "      <th>rows</th>\n",
              "    </tr>\n",
              "  </thead>\n",
              "  <tbody>\n",
              "    <tr>\n",
              "      <th>0</th>\n",
              "      <td>1</td>\n",
              "      <td>1-1000181-1</td>\n",
              "      <td>Tell me what the notes are for South Australia</td>\n",
              "      <td>{'sel': 5, 'conds': [[3, 0, 'SOUTH AUSTRALIA']...</td>\n",
              "      <td>[State/territory, Text/background colour, Form...</td>\n",
              "      <td>[text, text, text, text, text, text]</td>\n",
              "      <td>[[Australian Capital Territory, blue/white, Ya...</td>\n",
              "    </tr>\n",
              "    <tr>\n",
              "      <th>1</th>\n",
              "      <td>1</td>\n",
              "      <td>1-1000181-1</td>\n",
              "      <td>What is the current series where the new serie...</td>\n",
              "      <td>{'sel': 4, 'conds': [[5, 0, 'New series began ...</td>\n",
              "      <td>[State/territory, Text/background colour, Form...</td>\n",
              "      <td>[text, text, text, text, text, text]</td>\n",
              "      <td>[[Australian Capital Territory, blue/white, Ya...</td>\n",
              "    </tr>\n",
              "    <tr>\n",
              "      <th>2</th>\n",
              "      <td>1</td>\n",
              "      <td>1-1000181-1</td>\n",
              "      <td>What is the format for South Australia?</td>\n",
              "      <td>{'sel': 2, 'conds': [[0, 0, 'South Australia']...</td>\n",
              "      <td>[State/territory, Text/background colour, Form...</td>\n",
              "      <td>[text, text, text, text, text, text]</td>\n",
              "      <td>[[Australian Capital Territory, blue/white, Ya...</td>\n",
              "    </tr>\n",
              "    <tr>\n",
              "      <th>3</th>\n",
              "      <td>1</td>\n",
              "      <td>1-1000181-1</td>\n",
              "      <td>Name the background colour for the Australian ...</td>\n",
              "      <td>{'sel': 1, 'conds': [[0, 0, 'Australian Capita...</td>\n",
              "      <td>[State/territory, Text/background colour, Form...</td>\n",
              "      <td>[text, text, text, text, text, text]</td>\n",
              "      <td>[[Australian Capital Territory, blue/white, Ya...</td>\n",
              "    </tr>\n",
              "    <tr>\n",
              "      <th>4</th>\n",
              "      <td>1</td>\n",
              "      <td>1-10007452-3</td>\n",
              "      <td>how many times is the fuel propulsion is cng?</td>\n",
              "      <td>{'sel': 3, 'conds': [[5, 0, 'CNG']], 'agg': 3}</td>\n",
              "      <td>[Order Year, Manufacturer, Model, Fleet Series...</td>\n",
              "      <td>[text, text, text, text, text, text]</td>\n",
              "      <td>[[1992-93, Gillig, Phantom (High Floor), 444-4...</td>\n",
              "    </tr>\n",
              "    <tr>\n",
              "      <th>...</th>\n",
              "      <td>...</td>\n",
              "      <td>...</td>\n",
              "      <td>...</td>\n",
              "      <td>...</td>\n",
              "      <td>...</td>\n",
              "      <td>...</td>\n",
              "      <td>...</td>\n",
              "    </tr>\n",
              "    <tr>\n",
              "      <th>56350</th>\n",
              "      <td>2</td>\n",
              "      <td>2-12200756-16</td>\n",
              "      <td>What time was the match played with a score of...</td>\n",
              "      <td>{'sel': 1, 'conds': [[5, 0, '3-2']], 'agg': 0}</td>\n",
              "      <td>[Date, Time, Competition, Opponent, Ground, Sc...</td>\n",
              "      <td>[text, text, text, text, text, text]</td>\n",
              "      <td>[[17 July 2007, 15:30 GMT, Friendly Match, Chi...</td>\n",
              "    </tr>\n",
              "    <tr>\n",
              "      <th>56351</th>\n",
              "      <td>2</td>\n",
              "      <td>2-12200756-16</td>\n",
              "      <td>On which ground did the team play Aston Villa?</td>\n",
              "      <td>{'sel': 4, 'conds': [[3, 0, 'aston villa']], '...</td>\n",
              "      <td>[Date, Time, Competition, Opponent, Ground, Sc...</td>\n",
              "      <td>[text, text, text, text, text, text]</td>\n",
              "      <td>[[17 July 2007, 15:30 GMT, Friendly Match, Chi...</td>\n",
              "    </tr>\n",
              "    <tr>\n",
              "      <th>56352</th>\n",
              "      <td>2</td>\n",
              "      <td>2-12200756-16</td>\n",
              "      <td>What kind of competition was it at San Siro at...</td>\n",
              "      <td>{'sel': 2, 'conds': [[4, 0, 'san siro'], [1, 0...</td>\n",
              "      <td>[Date, Time, Competition, Opponent, Ground, Sc...</td>\n",
              "      <td>[text, text, text, text, text, text]</td>\n",
              "      <td>[[17 July 2007, 15:30 GMT, Friendly Match, Chi...</td>\n",
              "    </tr>\n",
              "    <tr>\n",
              "      <th>56353</th>\n",
              "      <td>2</td>\n",
              "      <td>2-12214488-1</td>\n",
              "      <td>What is the total number of decile for the red...</td>\n",
              "      <td>{'sel': 5, 'conds': [[0, 0, 'redwood school']]...</td>\n",
              "      <td>[Name, Years, Gender, Locality, Authority, Dec...</td>\n",
              "      <td>[text, text, text, text, text, real]</td>\n",
              "      <td>[[Amesbury School, 1–6, Coed, Churton Park, St...</td>\n",
              "    </tr>\n",
              "    <tr>\n",
              "      <th>56354</th>\n",
              "      <td>2</td>\n",
              "      <td>2-12650456-2</td>\n",
              "      <td>Which report includes a Circuit of Tripoli?</td>\n",
              "      <td>{'sel': 5, 'conds': [[1, 0, 'tripoli']], 'agg'...</td>\n",
              "      <td>[Name, Circuit, Date, Winning driver, Winning ...</td>\n",
              "      <td>[text, text, text, text, text, text]</td>\n",
              "      <td>[[Tripoli Grand Prix, Tripoli, 11 March, Tazio...</td>\n",
              "    </tr>\n",
              "  </tbody>\n",
              "</table>\n",
              "<p>56355 rows × 7 columns</p>\n",
              "</div>"
            ],
            "text/plain": [
              "       phase  ...                                               rows\n",
              "0          1  ...  [[Australian Capital Territory, blue/white, Ya...\n",
              "1          1  ...  [[Australian Capital Territory, blue/white, Ya...\n",
              "2          1  ...  [[Australian Capital Territory, blue/white, Ya...\n",
              "3          1  ...  [[Australian Capital Territory, blue/white, Ya...\n",
              "4          1  ...  [[1992-93, Gillig, Phantom (High Floor), 444-4...\n",
              "...      ...  ...                                                ...\n",
              "56350      2  ...  [[17 July 2007, 15:30 GMT, Friendly Match, Chi...\n",
              "56351      2  ...  [[17 July 2007, 15:30 GMT, Friendly Match, Chi...\n",
              "56352      2  ...  [[17 July 2007, 15:30 GMT, Friendly Match, Chi...\n",
              "56353      2  ...  [[Amesbury School, 1–6, Coed, Churton Park, St...\n",
              "56354      2  ...  [[Tripoli Grand Prix, Tripoli, 11 March, Tazio...\n",
              "\n",
              "[56355 rows x 7 columns]"
            ]
          },
          "execution_count": 5,
          "metadata": {},
          "output_type": "execute_result"
        }
      ],
      "source": [
        "#merging both tables\n",
        "merged_data=train_data.merge(train_table_info,on='id')\n",
        "merged_data"
      ]
    },
    {
      "cell_type": "code",
      "execution_count": null,
      "metadata": {
        "colab": {
          "base_uri": "https://localhost:8080/"
        },
        "id": "tepmAfxQFCWY",
        "outputId": "5fe53bc8-9cbe-4298-fce7-559934173618"
      },
      "outputs": [
        {
          "name": "stderr",
          "output_type": "stream",
          "text": [
            "100%|██████████| 56355/56355 [00:03<00:00, 16166.47it/s]\n"
          ]
        }
      ],
      "source": [
        "from tqdm import tqdm\n",
        "\n",
        "sql_in_text = []\n",
        "aggregate = ['', 'MAX', 'MIN', 'COUNT', 'SUM', 'AVG']\n",
        "operator = ['=', '<', '>']\n",
        "word_operator = ['eq', 'lt', 'gt']\n",
        "\n",
        "for i in tqdm(range(len(merged_data))):\n",
        "    sql = merged_data['sql'].iloc[i]\n",
        "    col = merged_data['header'].iloc[i][sql['sel']]\n",
        "    agg = aggregate[sql['agg']]\n",
        "    cond_col = []\n",
        "    cond_opr = []\n",
        "    cond_value = []\n",
        "    for j in sql['conds']:\n",
        "        cond_col.append(merged_data['header'].iloc[i][j[0]])\n",
        "        cond_opr.append(word_operator[j[1]])\n",
        "        cond_value.append(j[2])\n",
        "    resulted_sql = \"SELECT \"\n",
        "    if agg == '':\n",
        "        resulted_sql += col + \" WHERE \"\n",
        "    else:\n",
        "        resulted_sql += agg + \"(\" + col + \") WHERE \"\n",
        "\n",
        "    for j in range(len(cond_col)):\n",
        "        if j != 0:\n",
        "            resulted_sql += \"AND \"\n",
        "        resulted_sql += cond_col[j] + ' ' + operator[word_operator.index(cond_opr[j])] + ' '\n",
        "        resulted_sql += str(cond_value[j]) + ' '\n",
        "\n",
        "    sql_in_text.append(resulted_sql)"
      ]
    },
    {
      "cell_type": "code",
      "execution_count": null,
      "metadata": {
        "id": "AKDayzynWxpu"
      },
      "outputs": [],
      "source": [
        "merged_data['resulted_sql']=sql_in_text"
      ]
    },
    {
      "cell_type": "code",
      "execution_count": null,
      "metadata": {
        "colab": {
          "base_uri": "https://localhost:8080/",
          "height": 753
        },
        "id": "d6NumIQAW_kB",
        "outputId": "6343b408-bf28-4e45-dbf7-c93f251a8d39"
      },
      "outputs": [
        {
          "data": {
            "text/html": [
              "<div>\n",
              "<style scoped>\n",
              "    .dataframe tbody tr th:only-of-type {\n",
              "        vertical-align: middle;\n",
              "    }\n",
              "\n",
              "    .dataframe tbody tr th {\n",
              "        vertical-align: top;\n",
              "    }\n",
              "\n",
              "    .dataframe thead th {\n",
              "        text-align: right;\n",
              "    }\n",
              "</style>\n",
              "<table border=\"1\" class=\"dataframe\">\n",
              "  <thead>\n",
              "    <tr style=\"text-align: right;\">\n",
              "      <th></th>\n",
              "      <th>phase</th>\n",
              "      <th>id</th>\n",
              "      <th>question</th>\n",
              "      <th>sql</th>\n",
              "      <th>header</th>\n",
              "      <th>types</th>\n",
              "      <th>rows</th>\n",
              "      <th>resulted_sql</th>\n",
              "    </tr>\n",
              "  </thead>\n",
              "  <tbody>\n",
              "    <tr>\n",
              "      <th>0</th>\n",
              "      <td>1</td>\n",
              "      <td>1-1000181-1</td>\n",
              "      <td>Tell me what the notes are for South Australia</td>\n",
              "      <td>{'sel': 5, 'conds': [[3, 0, 'SOUTH AUSTRALIA']...</td>\n",
              "      <td>[State/territory, Text/background colour, Form...</td>\n",
              "      <td>[text, text, text, text, text, text]</td>\n",
              "      <td>[[Australian Capital Territory, blue/white, Ya...</td>\n",
              "      <td>select Notes where Current slogan eq SOUTH AUS...</td>\n",
              "    </tr>\n",
              "    <tr>\n",
              "      <th>1</th>\n",
              "      <td>1</td>\n",
              "      <td>1-1000181-1</td>\n",
              "      <td>What is the current series where the new serie...</td>\n",
              "      <td>{'sel': 4, 'conds': [[5, 0, 'New series began ...</td>\n",
              "      <td>[State/territory, Text/background colour, Form...</td>\n",
              "      <td>[text, text, text, text, text, text]</td>\n",
              "      <td>[[Australian Capital Territory, blue/white, Ya...</td>\n",
              "      <td>select Current series where Notes eq New serie...</td>\n",
              "    </tr>\n",
              "    <tr>\n",
              "      <th>2</th>\n",
              "      <td>1</td>\n",
              "      <td>1-1000181-1</td>\n",
              "      <td>What is the format for South Australia?</td>\n",
              "      <td>{'sel': 2, 'conds': [[0, 0, 'South Australia']...</td>\n",
              "      <td>[State/territory, Text/background colour, Form...</td>\n",
              "      <td>[text, text, text, text, text, text]</td>\n",
              "      <td>[[Australian Capital Territory, blue/white, Ya...</td>\n",
              "      <td>select Format where State/territory eq South A...</td>\n",
              "    </tr>\n",
              "    <tr>\n",
              "      <th>3</th>\n",
              "      <td>1</td>\n",
              "      <td>1-1000181-1</td>\n",
              "      <td>Name the background colour for the Australian ...</td>\n",
              "      <td>{'sel': 1, 'conds': [[0, 0, 'Australian Capita...</td>\n",
              "      <td>[State/territory, Text/background colour, Form...</td>\n",
              "      <td>[text, text, text, text, text, text]</td>\n",
              "      <td>[[Australian Capital Territory, blue/white, Ya...</td>\n",
              "      <td>select Text/background colour where State/terr...</td>\n",
              "    </tr>\n",
              "    <tr>\n",
              "      <th>4</th>\n",
              "      <td>1</td>\n",
              "      <td>1-10007452-3</td>\n",
              "      <td>how many times is the fuel propulsion is cng?</td>\n",
              "      <td>{'sel': 3, 'conds': [[5, 0, 'CNG']], 'agg': 3}</td>\n",
              "      <td>[Order Year, Manufacturer, Model, Fleet Series...</td>\n",
              "      <td>[text, text, text, text, text, text]</td>\n",
              "      <td>[[1992-93, Gillig, Phantom (High Floor), 444-4...</td>\n",
              "      <td>select COUNT(Fleet Series (Quantity)) where Fu...</td>\n",
              "    </tr>\n",
              "    <tr>\n",
              "      <th>...</th>\n",
              "      <td>...</td>\n",
              "      <td>...</td>\n",
              "      <td>...</td>\n",
              "      <td>...</td>\n",
              "      <td>...</td>\n",
              "      <td>...</td>\n",
              "      <td>...</td>\n",
              "      <td>...</td>\n",
              "    </tr>\n",
              "    <tr>\n",
              "      <th>56350</th>\n",
              "      <td>2</td>\n",
              "      <td>2-12200756-16</td>\n",
              "      <td>What time was the match played with a score of...</td>\n",
              "      <td>{'sel': 1, 'conds': [[5, 0, '3-2']], 'agg': 0}</td>\n",
              "      <td>[Date, Time, Competition, Opponent, Ground, Sc...</td>\n",
              "      <td>[text, text, text, text, text, text]</td>\n",
              "      <td>[[17 July 2007, 15:30 GMT, Friendly Match, Chi...</td>\n",
              "      <td>select Time where Score eq 3-2</td>\n",
              "    </tr>\n",
              "    <tr>\n",
              "      <th>56351</th>\n",
              "      <td>2</td>\n",
              "      <td>2-12200756-16</td>\n",
              "      <td>On which ground did the team play Aston Villa?</td>\n",
              "      <td>{'sel': 4, 'conds': [[3, 0, 'aston villa']], '...</td>\n",
              "      <td>[Date, Time, Competition, Opponent, Ground, Sc...</td>\n",
              "      <td>[text, text, text, text, text, text]</td>\n",
              "      <td>[[17 July 2007, 15:30 GMT, Friendly Match, Chi...</td>\n",
              "      <td>select Ground where Opponent eq aston villa</td>\n",
              "    </tr>\n",
              "    <tr>\n",
              "      <th>56352</th>\n",
              "      <td>2</td>\n",
              "      <td>2-12200756-16</td>\n",
              "      <td>What kind of competition was it at San Siro at...</td>\n",
              "      <td>{'sel': 2, 'conds': [[4, 0, 'san siro'], [1, 0...</td>\n",
              "      <td>[Date, Time, Competition, Opponent, Ground, Sc...</td>\n",
              "      <td>[text, text, text, text, text, text]</td>\n",
              "      <td>[[17 July 2007, 15:30 GMT, Friendly Match, Chi...</td>\n",
              "      <td>select Competition where Ground eq san siro an...</td>\n",
              "    </tr>\n",
              "    <tr>\n",
              "      <th>56353</th>\n",
              "      <td>2</td>\n",
              "      <td>2-12214488-1</td>\n",
              "      <td>What is the total number of decile for the red...</td>\n",
              "      <td>{'sel': 5, 'conds': [[0, 0, 'redwood school']]...</td>\n",
              "      <td>[Name, Years, Gender, Locality, Authority, Dec...</td>\n",
              "      <td>[text, text, text, text, text, real]</td>\n",
              "      <td>[[Amesbury School, 1–6, Coed, Churton Park, St...</td>\n",
              "      <td>select COUNT(Decile) where Name eq redwood sch...</td>\n",
              "    </tr>\n",
              "    <tr>\n",
              "      <th>56354</th>\n",
              "      <td>2</td>\n",
              "      <td>2-12650456-2</td>\n",
              "      <td>Which report includes a Circuit of Tripoli?</td>\n",
              "      <td>{'sel': 5, 'conds': [[1, 0, 'tripoli']], 'agg'...</td>\n",
              "      <td>[Name, Circuit, Date, Winning driver, Winning ...</td>\n",
              "      <td>[text, text, text, text, text, text]</td>\n",
              "      <td>[[Tripoli Grand Prix, Tripoli, 11 March, Tazio...</td>\n",
              "      <td>select Report where Circuit eq tripoli</td>\n",
              "    </tr>\n",
              "  </tbody>\n",
              "</table>\n",
              "<p>56355 rows × 8 columns</p>\n",
              "</div>"
            ],
            "text/plain": [
              "       phase  ...                                       resulted_sql\n",
              "0          1  ...  select Notes where Current slogan eq SOUTH AUS...\n",
              "1          1  ...  select Current series where Notes eq New serie...\n",
              "2          1  ...  select Format where State/territory eq South A...\n",
              "3          1  ...  select Text/background colour where State/terr...\n",
              "4          1  ...  select COUNT(Fleet Series (Quantity)) where Fu...\n",
              "...      ...  ...                                                ...\n",
              "56350      2  ...                    select Time where Score eq 3-2 \n",
              "56351      2  ...       select Ground where Opponent eq aston villa \n",
              "56352      2  ...  select Competition where Ground eq san siro an...\n",
              "56353      2  ...  select COUNT(Decile) where Name eq redwood sch...\n",
              "56354      2  ...            select Report where Circuit eq tripoli \n",
              "\n",
              "[56355 rows x 8 columns]"
            ]
          },
          "execution_count": 8,
          "metadata": {},
          "output_type": "execute_result"
        }
      ],
      "source": [
        "merged_data"
      ]
    },
    {
      "cell_type": "code",
      "execution_count": null,
      "metadata": {
        "id": "wtd4i9IXVwji"
      },
      "outputs": [],
      "source": [
        "merged_data.to_csv('merged_data.csv')"
      ]
    },
    {
      "cell_type": "code",
      "execution_count": null,
      "metadata": {
        "id": "pS9T-eHoXddv"
      },
      "outputs": [],
      "source": [
        "import pandas as pd\n",
        "merged_data=pd.read_csv(\"merged_data.csv\")"
      ]
    },
    {
      "cell_type": "code",
      "execution_count": null,
      "metadata": {
        "colab": {
          "base_uri": "https://localhost:8080/"
        },
        "id": "7i8Opv6cXkfH",
        "outputId": "d14fe392-22cd-42b3-c02c-bf1300af81e4"
      },
      "outputs": [
        {
          "name": "stdout",
          "output_type": "stream",
          "text": [
            "question:  What is the season year where the rank is 39?\n",
            "headers:  ['Season', 'Timeslot ( ET )', 'Season premiere', 'Season finale', 'TV season', 'Rank', 'Viewers (millions)']\n",
            "sql:  select TV season where Rank eq 39 \n"
          ]
        }
      ],
      "source": [
        "print(\"question: \",merged_data.question.iloc[100])\n",
        "print(\"headers: \",merged_data.header.iloc[100])\n",
        "print(\"sql: \",merged_data.resulted_sql.iloc[100])"
      ]
    },
    {
      "attachments": {},
      "cell_type": "markdown",
      "metadata": {
        "id": "n1kMPiz1ReWd"
      },
      "source": [
        "**Concatinating headers and questions**"
      ]
    },
    {
      "cell_type": "code",
      "execution_count": null,
      "metadata": {
        "id": "aLmCDwLIRjeS"
      },
      "outputs": [],
      "source": [
        "#Concatinating question and headers\n",
        "question_header=[]\n",
        "for i in range(len(merged_data)):\n",
        "  question=merged_data.question.iloc[i]\n",
        "  header=merged_data.header.iloc[i]\n",
        "  a=header.split(',')\n",
        "  for i in range(len(a)):\n",
        "    a[i]=a[i].replace('[','')\n",
        "    a[i]=a[i].replace(\"'\",'')\n",
        "    a[i]=a[i].replace(',','')\n",
        "    a[i]=a[i].replace(']','')\n",
        "  for head in a: \n",
        "    question+=' '+head\n",
        "  question_header.append(question)"
      ]
    },
    {
      "cell_type": "code",
      "execution_count": null,
      "metadata": {
        "colab": {
          "base_uri": "https://localhost:8080/"
        },
        "id": "xbKz7mEOGTw-",
        "outputId": "25b4fa64-38e2-43ca-dc2e-0209a5b4ac07"
      },
      "outputs": [
        {
          "data": {
            "text/plain": [
              "56355"
            ]
          },
          "execution_count": 13,
          "metadata": {},
          "output_type": "execute_result"
        }
      ],
      "source": [
        "len(question_header)"
      ]
    },
    {
      "attachments": {},
      "cell_type": "markdown",
      "metadata": {
        "id": "5DNR6h7sFr15"
      },
      "source": [
        "**Preprocessing**"
      ]
    },
    {
      "cell_type": "code",
      "execution_count": null,
      "metadata": {
        "id": "8ENvofHyFGbC"
      },
      "outputs": [],
      "source": [
        "def decontractions(phrase):\n",
        "    \"\"\"decontracted takes text and convert contractions into natural form.\n",
        "     ref: https://stackoverflow.com/questions/19790188/expanding-english-language-contractions-in-python/47091490#47091490\"\"\"\n",
        "    # specific\n",
        "    phrase = re.sub(r\"won\\'t\", \"will not\", phrase)\n",
        "    phrase = re.sub(r\"can\\'t\", \"can not\", phrase)\n",
        "    phrase = re.sub(r\"won\\’t\", \"will not\", phrase)\n",
        "    phrase = re.sub(r\"can\\’t\", \"can not\", phrase)\n",
        "\n",
        "    # general\n",
        "    phrase = re.sub(r\"n\\'t\", \" not\", phrase)\n",
        "    phrase = re.sub(r\"\\'re\", \" are\", phrase)\n",
        "    phrase = re.sub(r\"\\'s\", \" is\", phrase)\n",
        "    phrase = re.sub(r\"\\'d\", \" would\", phrase)\n",
        "    phrase = re.sub(r\"\\'ll\", \" will\", phrase)\n",
        "    phrase = re.sub(r\"\\'t\", \" not\", phrase)\n",
        "    phrase = re.sub(r\"\\'ve\", \" have\", phrase)\n",
        "    phrase = re.sub(r\"\\'m\", \" am\", phrase)\n",
        "\n",
        "    phrase = re.sub(r\"n\\’t\", \" not\", phrase)\n",
        "    phrase = re.sub(r\"\\’re\", \" are\", phrase)\n",
        "    phrase = re.sub(r\"\\’s\", \" is\", phrase)\n",
        "    phrase = re.sub(r\"\\’d\", \" would\", phrase)\n",
        "    phrase = re.sub(r\"\\’ll\", \" will\", phrase)\n",
        "    phrase = re.sub(r\"\\’t\", \" not\", phrase)\n",
        "    phrase = re.sub(r\"\\’ve\", \" have\", phrase)\n",
        "    phrase = re.sub(r\"\\’m\", \" am\", phrase)\n",
        "\n",
        "    return phrase\n",
        "\n",
        "def preprocess(text):\n",
        "    # convert all the text into lower letters\n",
        "    # remove the contractions\n",
        "    # remove all the spacial characters: except space ' '\n",
        "    text = text.lower()\n",
        "    text = decontractions(text)\n",
        "    return text"
      ]
    },
    {
      "cell_type": "code",
      "execution_count": null,
      "metadata": {
        "id": "qx7JqgF9POzh"
      },
      "outputs": [],
      "source": [
        "import re\n",
        "preprocess_question_header=[]\n",
        "for i in question_header:\n",
        "  preprocess_question_header.append(preprocess(i))"
      ]
    },
    {
      "cell_type": "code",
      "execution_count": null,
      "metadata": {
        "id": "H4b4r-HdQdlr"
      },
      "outputs": [],
      "source": [
        "preprocess_sql_in_text=[]\n",
        "for i in merged_data['resulted_sql'].values:\n",
        "  preprocess_sql_in_text.append(preprocess(i))"
      ]
    },
    {
      "cell_type": "code",
      "execution_count": null,
      "metadata": {
        "colab": {
          "base_uri": "https://localhost:8080/",
          "height": 35
        },
        "id": "1S_4V-MBSYKs",
        "outputId": "7019dc58-6b5c-4408-8e66-9e08a4e28056"
      },
      "outputs": [
        {
          "data": {
            "application/vnd.google.colaboratory.intrinsic+json": {
              "type": "string"
            },
            "text/plain": [
              "'select tv season where rank eq 39 '"
            ]
          },
          "execution_count": 17,
          "metadata": {},
          "output_type": "execute_result"
        }
      ],
      "source": [
        "preprocess_sql_in_text[100]"
      ]
    },
    {
      "cell_type": "code",
      "execution_count": null,
      "metadata": {
        "colab": {
          "base_uri": "https://localhost:8080/",
          "height": 417
        },
        "id": "RA4-6QVkcAgu",
        "outputId": "488efd2f-2120-4de1-db7c-6f92defbd779"
      },
      "outputs": [
        {
          "data": {
            "text/html": [
              "<div>\n",
              "<style scoped>\n",
              "    .dataframe tbody tr th:only-of-type {\n",
              "        vertical-align: middle;\n",
              "    }\n",
              "\n",
              "    .dataframe tbody tr th {\n",
              "        vertical-align: top;\n",
              "    }\n",
              "\n",
              "    .dataframe thead th {\n",
              "        text-align: right;\n",
              "    }\n",
              "</style>\n",
              "<table border=\"1\" class=\"dataframe\">\n",
              "  <thead>\n",
              "    <tr style=\"text-align: right;\">\n",
              "      <th></th>\n",
              "      <th>question_header</th>\n",
              "      <th>sql</th>\n",
              "    </tr>\n",
              "  </thead>\n",
              "  <tbody>\n",
              "    <tr>\n",
              "      <th>0</th>\n",
              "      <td>Tell me what the notes are for South Australia...</td>\n",
              "      <td>select notes where current slogan eq south aus...</td>\n",
              "    </tr>\n",
              "    <tr>\n",
              "      <th>1</th>\n",
              "      <td>What is the current series where the new serie...</td>\n",
              "      <td>select current series where notes eq new serie...</td>\n",
              "    </tr>\n",
              "    <tr>\n",
              "      <th>2</th>\n",
              "      <td>What is the format for South Australia? State/...</td>\n",
              "      <td>select format where state/territory eq south a...</td>\n",
              "    </tr>\n",
              "    <tr>\n",
              "      <th>3</th>\n",
              "      <td>Name the background colour for the Australian ...</td>\n",
              "      <td>select text/background colour where state/terr...</td>\n",
              "    </tr>\n",
              "    <tr>\n",
              "      <th>4</th>\n",
              "      <td>how many times is the fuel propulsion is cng? ...</td>\n",
              "      <td>select count(fleet series (quantity)) where fu...</td>\n",
              "    </tr>\n",
              "    <tr>\n",
              "      <th>...</th>\n",
              "      <td>...</td>\n",
              "      <td>...</td>\n",
              "    </tr>\n",
              "    <tr>\n",
              "      <th>56350</th>\n",
              "      <td>What time was the match played with a score of...</td>\n",
              "      <td>select time where score eq 3-2</td>\n",
              "    </tr>\n",
              "    <tr>\n",
              "      <th>56351</th>\n",
              "      <td>On which ground did the team play Aston Villa?...</td>\n",
              "      <td>select ground where opponent eq aston villa</td>\n",
              "    </tr>\n",
              "    <tr>\n",
              "      <th>56352</th>\n",
              "      <td>What kind of competition was it at San Siro at...</td>\n",
              "      <td>select competition where ground eq san siro an...</td>\n",
              "    </tr>\n",
              "    <tr>\n",
              "      <th>56353</th>\n",
              "      <td>What is the total number of decile for the red...</td>\n",
              "      <td>select count(decile) where name eq redwood sch...</td>\n",
              "    </tr>\n",
              "    <tr>\n",
              "      <th>56354</th>\n",
              "      <td>Which report includes a Circuit of Tripoli? Na...</td>\n",
              "      <td>select report where circuit eq tripoli</td>\n",
              "    </tr>\n",
              "  </tbody>\n",
              "</table>\n",
              "<p>56355 rows × 2 columns</p>\n",
              "</div>"
            ],
            "text/plain": [
              "                                         question_header                                                sql\n",
              "0      Tell me what the notes are for South Australia...  select notes where current slogan eq south aus...\n",
              "1      What is the current series where the new serie...  select current series where notes eq new serie...\n",
              "2      What is the format for South Australia? State/...  select format where state/territory eq south a...\n",
              "3      Name the background colour for the Australian ...  select text/background colour where state/terr...\n",
              "4      how many times is the fuel propulsion is cng? ...  select count(fleet series (quantity)) where fu...\n",
              "...                                                  ...                                                ...\n",
              "56350  What time was the match played with a score of...                    select time where score eq 3-2 \n",
              "56351  On which ground did the team play Aston Villa?...       select ground where opponent eq aston villa \n",
              "56352  What kind of competition was it at San Siro at...  select competition where ground eq san siro an...\n",
              "56353  What is the total number of decile for the red...  select count(decile) where name eq redwood sch...\n",
              "56354  Which report includes a Circuit of Tripoli? Na...            select report where circuit eq tripoli \n",
              "\n",
              "[56355 rows x 2 columns]"
            ]
          },
          "execution_count": 18,
          "metadata": {},
          "output_type": "execute_result"
        }
      ],
      "source": [
        "final_data=pd.DataFrame()\n",
        "final_data['question_header']=question_header\n",
        "final_data['sql']=preprocess_sql_in_text\n",
        "final_data"
      ]
    },
    {
      "cell_type": "code",
      "execution_count": null,
      "metadata": {
        "id": "cIAoNTWaceGI"
      },
      "outputs": [],
      "source": [
        "final_data.to_csv('final_data.csv')"
      ]
    },
    {
      "cell_type": "code",
      "execution_count": null,
      "metadata": {
        "colab": {
          "base_uri": "https://localhost:8080/",
          "height": 35
        },
        "id": "LsgERx-bpVX_",
        "outputId": "7e83b3a1-2cd6-4411-e2e4-ff0a672f8616"
      },
      "outputs": [
        {
          "data": {
            "application/vnd.google.colaboratory.intrinsic+json": {
              "type": "string"
            },
            "text/plain": [
              "'Tell me what the notes are for South Australia  State/territory  Text/background colour  Format  Current slogan  Current series  Notes'"
            ]
          },
          "execution_count": 20,
          "metadata": {},
          "output_type": "execute_result"
        }
      ],
      "source": [
        "final_data.question_header.iloc[0]"
      ]
    },
    {
      "attachments": {},
      "cell_type": "markdown",
      "metadata": {
        "id": "p8swusEmaO96"
      },
      "source": [
        "**Featurizing**"
      ]
    },
    {
      "cell_type": "code",
      "execution_count": null,
      "metadata": {
        "colab": {
          "base_uri": "https://localhost:8080/"
        },
        "id": "XnsjAkNSgK-E",
        "outputId": "64ec0a5d-3c58-4452-f5c5-f7e4eb486cd8"
      },
      "outputs": [
        {
          "data": {
            "text/plain": [
              "(56355, 3)"
            ]
          },
          "execution_count": 21,
          "metadata": {},
          "output_type": "execute_result"
        }
      ],
      "source": [
        "import pandas as pd\n",
        "final_data=pd.read_csv(\"final_data.csv\")\n",
        "final_data.shape"
      ]
    },
    {
      "cell_type": "code",
      "execution_count": null,
      "metadata": {
        "id": "ukqySiNFaRLV"
      },
      "outputs": [],
      "source": [
        "#storing lengths of input and output from final data\n",
        "input_lengths=final_data['question_header'].str.split().apply(len)\n",
        "output_lengths=final_data['sql'].str.split().apply(len)"
      ]
    },
    {
      "cell_type": "code",
      "execution_count": null,
      "metadata": {
        "colab": {
          "base_uri": "https://localhost:8080/"
        },
        "id": "ItBOccwFltWt",
        "outputId": "839e2e3e-657d-4871-834e-905f82754981"
      },
      "outputs": [
        {
          "name": "stdout",
          "output_type": "stream",
          "text": [
            "Number of words in input greater than 60: 87\n",
            "Number of words in output greater than 35: 7\n"
          ]
        }
      ],
      "source": [
        "ci=0\n",
        "for i in input_lengths:\n",
        "  if(i>60):\n",
        "    ci+=1\n",
        "co=0\n",
        "for i in output_lengths:\n",
        "  if(i>35):\n",
        "    co+=1\n",
        "print(\"Number of words in input greater than 60:\",ci)\n",
        "print(\"Number of words in output greater than 35:\",co)"
      ]
    },
    {
      "cell_type": "code",
      "execution_count": null,
      "metadata": {
        "id": "Qy4S_wWql0oG"
      },
      "outputs": [],
      "source": [
        "#only 87 data points are greater than 60 words in input, so we choose max length of 60 in input\n",
        "pos=[]\n",
        "for i in range(len(input_lengths)):\n",
        "  if(input_lengths[i]<=60 and output_lengths[i]<=35):\n",
        "    pos.append(i)\n"
      ]
    },
    {
      "cell_type": "code",
      "execution_count": null,
      "metadata": {
        "id": "esbJzB_qfobB"
      },
      "outputs": [],
      "source": [
        "data=final_data.iloc[pos]"
      ]
    },
    {
      "cell_type": "code",
      "execution_count": null,
      "metadata": {
        "id": "mKftN1OSf9P-"
      },
      "outputs": [],
      "source": [
        "data.to_csv(\"questions_to_sql.csv\")"
      ]
    },
    {
      "cell_type": "code",
      "execution_count": null,
      "metadata": {
        "colab": {
          "base_uri": "https://localhost:8080/"
        },
        "id": "mNQ1LGIylP1b",
        "outputId": "f0d6300c-c5ce-4a0d-8e2a-c27420d8f391"
      },
      "outputs": [
        {
          "name": "stderr",
          "output_type": "stream",
          "text": [
            "/usr/local/lib/python3.7/dist-packages/ipykernel_launcher.py:1: SettingWithCopyWarning: \n",
            "A value is trying to be set on a copy of a slice from a DataFrame.\n",
            "Try using .loc[row_indexer,col_indexer] = value instead\n",
            "\n",
            "See the caveats in the documentation: https://pandas.pydata.org/pandas-docs/stable/user_guide/indexing.html#returning-a-view-versus-a-copy\n",
            "  \"\"\"Entry point for launching an IPython kernel.\n",
            "/usr/local/lib/python3.7/dist-packages/ipykernel_launcher.py:2: SettingWithCopyWarning: \n",
            "A value is trying to be set on a copy of a slice from a DataFrame.\n",
            "Try using .loc[row_indexer,col_indexer] = value instead\n",
            "\n",
            "See the caveats in the documentation: https://pandas.pydata.org/pandas-docs/stable/user_guide/indexing.html#returning-a-view-versus-a-copy\n",
            "  \n"
          ]
        }
      ],
      "source": [
        "data['sql_input'] = '<start> ' + data['sql'].astype(str)\n",
        "data['sql_output'] = data['sql'].astype(str) + ' <end>'"
      ]
    },
    {
      "cell_type": "code",
      "execution_count": null,
      "metadata": {
        "colab": {
          "base_uri": "https://localhost:8080/",
          "height": 602
        },
        "id": "lReARZ3Tz4Gq",
        "outputId": "6602aa37-e363-4a21-91c8-e6e874cb371c"
      },
      "outputs": [
        {
          "data": {
            "text/html": [
              "<div>\n",
              "<style scoped>\n",
              "    .dataframe tbody tr th:only-of-type {\n",
              "        vertical-align: middle;\n",
              "    }\n",
              "\n",
              "    .dataframe tbody tr th {\n",
              "        vertical-align: top;\n",
              "    }\n",
              "\n",
              "    .dataframe thead th {\n",
              "        text-align: right;\n",
              "    }\n",
              "</style>\n",
              "<table border=\"1\" class=\"dataframe\">\n",
              "  <thead>\n",
              "    <tr style=\"text-align: right;\">\n",
              "      <th></th>\n",
              "      <th>Unnamed: 0</th>\n",
              "      <th>question_header</th>\n",
              "      <th>sql</th>\n",
              "      <th>sql_input</th>\n",
              "      <th>sql_output</th>\n",
              "    </tr>\n",
              "  </thead>\n",
              "  <tbody>\n",
              "    <tr>\n",
              "      <th>0</th>\n",
              "      <td>0</td>\n",
              "      <td>Tell me what the notes are for South Australia...</td>\n",
              "      <td>select notes where current slogan eq south aus...</td>\n",
              "      <td>&lt;start&gt; select notes where current slogan eq s...</td>\n",
              "      <td>select notes where current slogan eq south aus...</td>\n",
              "    </tr>\n",
              "    <tr>\n",
              "      <th>1</th>\n",
              "      <td>1</td>\n",
              "      <td>What is the current series where the new serie...</td>\n",
              "      <td>select current series where notes eq new serie...</td>\n",
              "      <td>&lt;start&gt; select current series where notes eq n...</td>\n",
              "      <td>select current series where notes eq new serie...</td>\n",
              "    </tr>\n",
              "    <tr>\n",
              "      <th>2</th>\n",
              "      <td>2</td>\n",
              "      <td>What is the format for South Australia? State/...</td>\n",
              "      <td>select format where state/territory eq south a...</td>\n",
              "      <td>&lt;start&gt; select format where state/territory eq...</td>\n",
              "      <td>select format where state/territory eq south a...</td>\n",
              "    </tr>\n",
              "    <tr>\n",
              "      <th>3</th>\n",
              "      <td>3</td>\n",
              "      <td>Name the background colour for the Australian ...</td>\n",
              "      <td>select text/background colour where state/terr...</td>\n",
              "      <td>&lt;start&gt; select text/background colour where st...</td>\n",
              "      <td>select text/background colour where state/terr...</td>\n",
              "    </tr>\n",
              "    <tr>\n",
              "      <th>4</th>\n",
              "      <td>4</td>\n",
              "      <td>how many times is the fuel propulsion is cng? ...</td>\n",
              "      <td>select count(fleet series (quantity)) where fu...</td>\n",
              "      <td>&lt;start&gt; select count(fleet series (quantity)) ...</td>\n",
              "      <td>select count(fleet series (quantity)) where fu...</td>\n",
              "    </tr>\n",
              "    <tr>\n",
              "      <th>...</th>\n",
              "      <td>...</td>\n",
              "      <td>...</td>\n",
              "      <td>...</td>\n",
              "      <td>...</td>\n",
              "      <td>...</td>\n",
              "    </tr>\n",
              "    <tr>\n",
              "      <th>56350</th>\n",
              "      <td>56350</td>\n",
              "      <td>What time was the match played with a score of...</td>\n",
              "      <td>select time where score eq 3-2</td>\n",
              "      <td>&lt;start&gt; select time where score eq 3-2</td>\n",
              "      <td>select time where score eq 3-2  &lt;end&gt;</td>\n",
              "    </tr>\n",
              "    <tr>\n",
              "      <th>56351</th>\n",
              "      <td>56351</td>\n",
              "      <td>On which ground did the team play Aston Villa?...</td>\n",
              "      <td>select ground where opponent eq aston villa</td>\n",
              "      <td>&lt;start&gt; select ground where opponent eq aston ...</td>\n",
              "      <td>select ground where opponent eq aston villa  &lt;...</td>\n",
              "    </tr>\n",
              "    <tr>\n",
              "      <th>56352</th>\n",
              "      <td>56352</td>\n",
              "      <td>What kind of competition was it at San Siro at...</td>\n",
              "      <td>select competition where ground eq san siro an...</td>\n",
              "      <td>&lt;start&gt; select competition where ground eq san...</td>\n",
              "      <td>select competition where ground eq san siro an...</td>\n",
              "    </tr>\n",
              "    <tr>\n",
              "      <th>56353</th>\n",
              "      <td>56353</td>\n",
              "      <td>What is the total number of decile for the red...</td>\n",
              "      <td>select count(decile) where name eq redwood sch...</td>\n",
              "      <td>&lt;start&gt; select count(decile) where name eq red...</td>\n",
              "      <td>select count(decile) where name eq redwood sch...</td>\n",
              "    </tr>\n",
              "    <tr>\n",
              "      <th>56354</th>\n",
              "      <td>56354</td>\n",
              "      <td>Which report includes a Circuit of Tripoli? Na...</td>\n",
              "      <td>select report where circuit eq tripoli</td>\n",
              "      <td>&lt;start&gt; select report where circuit eq tripoli</td>\n",
              "      <td>select report where circuit eq tripoli  &lt;end&gt;</td>\n",
              "    </tr>\n",
              "  </tbody>\n",
              "</table>\n",
              "<p>56266 rows × 5 columns</p>\n",
              "</div>"
            ],
            "text/plain": [
              "       Unnamed: 0  ...                                         sql_output\n",
              "0               0  ...  select notes where current slogan eq south aus...\n",
              "1               1  ...  select current series where notes eq new serie...\n",
              "2               2  ...  select format where state/territory eq south a...\n",
              "3               3  ...  select text/background colour where state/terr...\n",
              "4               4  ...  select count(fleet series (quantity)) where fu...\n",
              "...           ...  ...                                                ...\n",
              "56350       56350  ...              select time where score eq 3-2  <end>\n",
              "56351       56351  ...  select ground where opponent eq aston villa  <...\n",
              "56352       56352  ...  select competition where ground eq san siro an...\n",
              "56353       56353  ...  select count(decile) where name eq redwood sch...\n",
              "56354       56354  ...      select report where circuit eq tripoli  <end>\n",
              "\n",
              "[56266 rows x 5 columns]"
            ]
          },
          "execution_count": 28,
          "metadata": {},
          "output_type": "execute_result"
        }
      ],
      "source": [
        "data"
      ]
    },
    {
      "cell_type": "code",
      "execution_count": null,
      "metadata": {
        "colab": {
          "base_uri": "https://localhost:8080/"
        },
        "id": "7CALMqo5z8nW",
        "outputId": "b7121989-e685-4830-a3fc-afeb4ed8b1fc"
      },
      "outputs": [
        {
          "name": "stderr",
          "output_type": "stream",
          "text": [
            "/usr/local/lib/python3.7/dist-packages/pandas/core/indexing.py:670: SettingWithCopyWarning: \n",
            "A value is trying to be set on a copy of a slice from a DataFrame\n",
            "\n",
            "See the caveats in the documentation: https://pandas.pydata.org/pandas-docs/stable/user_guide/indexing.html#returning-a-view-versus-a-copy\n",
            "  iloc._setitem_with_indexer(indexer, value)\n",
            "/usr/local/lib/python3.7/dist-packages/ipykernel_launcher.py:3: SettingWithCopyWarning: \n",
            "A value is trying to be set on a copy of a slice from a DataFrame\n",
            "\n",
            "See the caveats in the documentation: https://pandas.pydata.org/pandas-docs/stable/user_guide/indexing.html#returning-a-view-versus-a-copy\n",
            "  This is separate from the ipykernel package so we can avoid doing imports until\n"
          ]
        }
      ],
      "source": [
        "# for one sentence we will be adding <end> token so that the tokanizer learns the word <end>\n",
        "# with this we can use only one tokenizer for both encoder output and decoder output\n",
        "data.sql_input.iloc[0]= str(data.sql_input.iloc[0])+' <end>'"
      ]
    },
    {
      "cell_type": "code",
      "execution_count": null,
      "metadata": {
        "colab": {
          "base_uri": "https://localhost:8080/",
          "height": 35
        },
        "id": "7AlWriN5kfqR",
        "outputId": "46f47ba6-1b15-4d03-8950-ea6d3a3b5a6e"
      },
      "outputs": [
        {
          "data": {
            "application/vnd.google.colaboratory.intrinsic+json": {
              "type": "string"
            },
            "text/plain": [
              "'<start> select notes where current slogan eq south australia  <end>'"
            ]
          },
          "execution_count": 30,
          "metadata": {},
          "output_type": "execute_result"
        }
      ],
      "source": [
        "data.sql_input.iloc[0]"
      ]
    },
    {
      "cell_type": "code",
      "execution_count": null,
      "metadata": {
        "colab": {
          "base_uri": "https://localhost:8080/",
          "height": 545
        },
        "id": "BJzbQau8py0k",
        "outputId": "3871ea86-27c2-4113-9c0a-1226bdc1d0d6"
      },
      "outputs": [
        {
          "data": {
            "image/png": "[encoded data removed]",
            "text/plain": [
              "<Figure size 432x288 with 1 Axes>"
            ]
          },
          "metadata": {
            "needs_background": "light"
          },
          "output_type": "display_data"
        },
        {
          "data": {
            "image/png": "[encoded data removed]",
            "text/plain": [
              "<Figure size 432x288 with 1 Axes>"
            ]
          },
          "metadata": {
            "needs_background": "light"
          },
          "output_type": "display_data"
        }
      ],
      "source": [
        "import matplotlib.pyplot as plt\n",
        "\n",
        "que_lengths = data['question_header'].str.split().apply(len)\n",
        "sql_lengths = data['sql_input'].str.split().apply(len)\n",
        "import seaborn as sns\n",
        "sns.kdeplot(que_lengths)\n",
        "plt.show()\n",
        "sns.kdeplot(sql_lengths)\n",
        "plt.show()"
      ]
    },
    {
      "cell_type": "code",
      "execution_count": null,
      "metadata": {
        "id": "a5b4LTiA3-9r"
      },
      "outputs": [],
      "source": [
        "from tensorflow.keras.preprocessing.text import Tokenizer\n",
        "tknizer_question = Tokenizer(filters='!\"#$%&()*+,-./:;=?@[\\\\]^_`{|}~\\t\\n')\n",
        "tknizer_question.fit_on_texts(data['question_header'].values)\n",
        "tknizer_sql = Tokenizer(filters='!\"#$%&()*+,-./:;=?@[\\\\]^_`{|}~\\t\\n')\n",
        "tknizer_sql.fit_on_texts(data['sql_input'].values)"
      ]
    },
    {
      "cell_type": "code",
      "execution_count": null,
      "metadata": {
        "colab": {
          "base_uri": "https://localhost:8080/"
        },
        "id": "C9TJY25Q-YkJ",
        "outputId": "42cabde4-e0c6-4f77-e5c6-11866ad49924"
      },
      "outputs": [
        {
          "name": "stdout",
          "output_type": "stream",
          "text": [
            "33933\n",
            "29731\n"
          ]
        }
      ],
      "source": [
        "vocab_size_question=len(tknizer_question.word_index.keys())\n",
        "print(vocab_size_question)\n",
        "vocab_size_sql=len(tknizer_sql.word_index.keys())\n",
        "print(vocab_size_sql)"
      ]
    },
    {
      "cell_type": "code",
      "execution_count": null,
      "metadata": {
        "id": "8eelwSjLO_5q"
      },
      "outputs": [],
      "source": [
        "import pickle\n",
        "with open('tokenizer_question.pickle', 'wb') as handle:\n",
        "  pickle. dump(tknizer_question, handle, protocol=pickle. HIGHEST_PROTOCOL)\n",
        "with open('tokenizer_sql.pickle', 'wb') as handle:\n",
        "  pickle. dump(tknizer_sql, handle, protocol=pickle. HIGHEST_PROTOCOL)"
      ]
    },
    {
      "cell_type": "code",
      "execution_count": null,
      "metadata": {
        "id": "UWBOjF7Ohasu"
      },
      "outputs": [],
      "source": [
        "import pickle\n",
        "with open('tokenizer_question.pickle', 'rb') as handle:\n",
        "  tknizer_question=pickle.load(handle)\n",
        "with open('tokenizer_sql.pickle', 'rb') as handle:\n",
        "  tknizer_sql=pickle.load(handle) "
      ]
    },
    {
      "cell_type": "code",
      "execution_count": null,
      "metadata": {
        "colab": {
          "base_uri": "https://localhost:8080/"
        },
        "id": "uBAoeU5--8Dz",
        "outputId": "9bffe2fd-18e9-4630-b3b3-e11a55e4820d"
      },
      "outputs": [
        {
          "name": "stdout",
          "output_type": "stream",
          "text": [
            "--2021-10-31 17:44:13--  https://www.dropbox.com/s/ddkmtqz01jc024u/glove.6B.100d.txt\n",
            "Resolving www.dropbox.com (www.dropbox.com)... 162.125.3.18, 2620:100:601b:18::a27d:812\n",
            "Connecting to www.dropbox.com (www.dropbox.com)|162.125.3.18|:443... connected.\n",
            "HTTP request sent, awaiting response... 301 Moved Permanently\n",
            "Location: /s/raw/ddkmtqz01jc024u/glove.6B.100d.txt [following]\n",
            "--2021-10-31 17:44:13--  https://www.dropbox.com/s/raw/ddkmtqz01jc024u/glove.6B.100d.txt\n",
            "Reusing existing connection to www.dropbox.com:443.\n",
            "HTTP request sent, awaiting response... 302 Found\n",
            "Location: https://uc8a1d621d281298668fa89c4526.dl.dropboxusercontent.com/cd/0/inline/BZGWIQfF8co9OdLunpG4DyYal6FJ0sOmqrBvogjoKWbyalFxCOtio2eUP3tG7rwd650wymaDQHww-mLRqiwvOPZEeLZ0dM3tlxRq_x_eYa3Kt4c2o3yGlwqXNKlfvLsJyeT1gUJP1VOQSKfC_VfDIM5s/file# [following]\n",
            "--2021-10-31 17:44:13--  https://uc8a1d621d281298668fa89c4526.dl.dropboxusercontent.com/cd/0/inline/BZGWIQfF8co9OdLunpG4DyYal6FJ0sOmqrBvogjoKWbyalFxCOtio2eUP3tG7rwd650wymaDQHww-mLRqiwvOPZEeLZ0dM3tlxRq_x_eYa3Kt4c2o3yGlwqXNKlfvLsJyeT1gUJP1VOQSKfC_VfDIM5s/file\n",
            "Resolving uc8a1d621d281298668fa89c4526.dl.dropboxusercontent.com (uc8a1d621d281298668fa89c4526.dl.dropboxusercontent.com)... 162.125.3.15, 2620:100:601b:15::a27d:80f\n",
            "Connecting to uc8a1d621d281298668fa89c4526.dl.dropboxusercontent.com (uc8a1d621d281298668fa89c4526.dl.dropboxusercontent.com)|162.125.3.15|:443... connected.\n",
            "HTTP request sent, awaiting response... 200 OK\n",
            "Length: 347116733 (331M) [text/plain]\n",
            "Saving to: ‘glove.6B.100d.txt’\n",
            "\n",
            "glove.6B.100d.txt   100%[===================>] 331.04M  88.1MB/s    in 3.8s    \n",
            "\n",
            "2021-10-31 17:44:17 (86.8 MB/s) - ‘glove.6B.100d.txt’ saved [347116733/347116733]\n",
            "\n"
          ]
        }
      ],
      "source": [
        "!wget https://www.dropbox.com/s/ddkmtqz01jc024u/glove.6B.100d.txt"
      ]
    },
    {
      "cell_type": "code",
      "execution_count": null,
      "metadata": {
        "colab": {
          "base_uri": "https://localhost:8080/"
        },
        "id": "vJy3Ildj-9mi",
        "outputId": "4057a1af-37df-44da-eba5-146f96d5e281"
      },
      "outputs": [
        {
          "name": "stderr",
          "output_type": "stream",
          "text": [
            "400000it [00:13, 30356.90it/s]\n",
            "100%|██████████| 29731/29731 [00:00<00:00, 490542.67it/s]"
          ]
        },
        {
          "name": "stdout",
          "output_type": "stream",
          "text": [
            "(29732, 100)\n"
          ]
        },
        {
          "name": "stderr",
          "output_type": "stream",
          "text": [
            "\n"
          ]
        }
      ],
      "source": [
        "import numpy as np\n",
        "from tqdm import tqdm \n",
        "embeddings_index = dict()\n",
        "f = open('glove.6B.100d.txt')\n",
        "for line in tqdm(f):\n",
        "    values = line.split()\n",
        "    word = values[0]\n",
        "    coefs = np.asarray(values[1:], dtype='float32')\n",
        "    embeddings_index[word] = coefs\n",
        "f.close()\n",
        "\n",
        "embedding_matrix = np.zeros((vocab_size_sql+1,100))  #to convert each unique word in tokenzier's vocab  ==>100-d vector\n",
        "for word, i in tqdm(tknizer_sql.word_index.items()):\n",
        "    embedding_vector= embeddings_index.get(word)\n",
        "    if embedding_vector is not None:\n",
        "        embedding_matrix[i] = embedding_vector\n",
        "print(embedding_matrix.shape)"
      ]
    },
    {
      "cell_type": "code",
      "execution_count": null,
      "metadata": {
        "colab": {
          "base_uri": "https://localhost:8080/"
        },
        "id": "iyd0u2GZPV_M",
        "outputId": "1de2bbf6-cff5-46a6-ea3f-e01688ccfb35"
      },
      "outputs": [
        {
          "data": {
            "text/plain": [
              "(29732, 100)"
            ]
          },
          "execution_count": 38,
          "metadata": {},
          "output_type": "execute_result"
        }
      ],
      "source": [
        "embedding_matrix.shape"
      ]
    },
    {
      "cell_type": "code",
      "execution_count": null,
      "metadata": {
        "id": "sG0adDwUmFc2"
      },
      "outputs": [],
      "source": [
        "import tensorflow as tf\n",
        "from tensorflow.keras.preprocessing.sequence import pad_sequences\n",
        "class Dataset:\n",
        "    def __init__(self, data, tknizer_question, tknizer_sql, max_len):\n",
        "        self.encoder_inps = data.question_header.values\n",
        "        self.decoder_inps = data.sql_input.values\n",
        "        self.decoder_outs = data.sql_output.values\n",
        "        self.tknizer_question = tknizer_question\n",
        "        self.tknizer_sql = tknizer_sql\n",
        "        self.max_len = max_len\n",
        "\n",
        "    def __getitem__(self, i):\n",
        "        self.encoder_seq = self.tknizer_question.texts_to_sequences([self.encoder_inps[i]]) # need to pass list of values\n",
        "        self.decoder_inp_seq = self.tknizer_sql.texts_to_sequences([self.decoder_inps[i]])\n",
        "        self.decoder_out_seq = self.tknizer_sql.texts_to_sequences([self.decoder_outs[i]])\n",
        "\n",
        "        self.encoder_seq = pad_sequences(self.encoder_seq, maxlen=self.max_len, dtype='int32', padding='post')\n",
        "        self.decoder_inp_seq = pad_sequences(self.decoder_inp_seq, maxlen=36, dtype='int32', padding='post')\n",
        "        self.decoder_out_seq = pad_sequences(self.decoder_out_seq, maxlen=36, dtype='int32', padding='post')\n",
        "        return self.encoder_seq, self.decoder_inp_seq, self.decoder_out_seq\n",
        "\n",
        "    def __len__(self): # your model.fit_gen requires this function\n",
        "        return len(self.encoder_inps)\n",
        "\n",
        "    \n",
        "class Dataloder(tf.keras.utils.Sequence):    \n",
        "    def __init__(self, dataset, batch_size=1):\n",
        "        self.dataset = dataset\n",
        "        self.batch_size = batch_size\n",
        "        self.indexes = np.arange(len(self.dataset.encoder_inps))\n",
        "\n",
        "\n",
        "    def __getitem__(self, i):\n",
        "        start = i * self.batch_size\n",
        "        stop = (i + 1) * self.batch_size\n",
        "        data = []\n",
        "        for j in range(start, stop):\n",
        "            data.append(self.dataset[j])\n",
        "\n",
        "        batch = [np.squeeze(np.stack(samples, axis=1), axis=0) for samples in zip(*data)]\n",
        "        # we are creating data like ([italian, english_inp], english_out) these are already converted into seq\n",
        "        return tuple([[batch[0],batch[1]],batch[2]])\n",
        "\n",
        "    def __len__(self):  # your model.fit_gen requires this function\n",
        "        return len(self.indexes) // self.batch_size\n",
        "\n",
        "    def on_epoch_end(self):\n",
        "        self.indexes = np.random.permutation(self.indexes)"
      ]
    },
    {
      "cell_type": "code",
      "execution_count": null,
      "metadata": {
        "colab": {
          "base_uri": "https://localhost:8080/"
        },
        "id": "N0vbQ1TIqcWX",
        "outputId": "53719b4a-6825-41e4-e2a2-caf7474ccab3"
      },
      "outputs": [
        {
          "name": "stdout",
          "output_type": "stream",
          "text": [
            "(64, 61) (64, 36) (64, 36)\n"
          ]
        }
      ],
      "source": [
        "#max_length=61\n",
        "train_dataset = Dataset(data, tknizer_question, tknizer_sql, 61)\n",
        "train_dataloader = Dataloder(train_dataset, batch_size=64)\n",
        "print(train_dataloader[0][0][0].shape, train_dataloader[0][0][1].shape, train_dataloader[0][1].shape)"
      ]
    },
    {
      "attachments": {},
      "cell_type": "markdown",
      "metadata": {
        "id": "r3OOehLCFnzZ"
      },
      "source": [
        "# Encoder_Decoder with Attention Layer"
      ]
    },
    {
      "cell_type": "code",
      "execution_count": null,
      "metadata": {
        "id": "-Abftb7MABZB"
      },
      "outputs": [],
      "source": [
        "import tensorflow as tf\n",
        "import numpy as np"
      ]
    },
    {
      "cell_type": "code",
      "execution_count": null,
      "metadata": {
        "id": "W2ksNXhUEM6f"
      },
      "outputs": [],
      "source": [
        "class Encoder(tf.keras.Model):\n",
        "    '''\n",
        "    Encoder model -- That takes a input sequence and returns output sequence\n",
        "    '''\n",
        "\n",
        "    def __init__(self,inp_vocab_size,embedding_size,lstm_size,input_length):\n",
        "        super().__init__()\n",
        "        self.vocab_size = inp_vocab_size\n",
        "        \n",
        "        self.embedding_dim = embedding_size   #==100\n",
        "        self.input_length = input_length\n",
        "        \n",
        "        self.enc_units= lstm_size\n",
        "        \n",
        "\n",
        "    def build(self, input_shape):  #emb and lstm layers def\n",
        "        #Initialize Embedding layer\n",
        "        self.embedding = Embedding(input_dim=self.vocab_size, output_dim=self.embedding_dim, input_length=self.input_length,\n",
        "                           mask_zero=True, name=\"embedding_layer_encoder\")\n",
        "        #Intialize Encoder LSTM layer\n",
        "        self.lstm = LSTM(self.enc_units, return_state=True, return_sequences=True, name=\"Encoder_LSTM\") \n",
        "        \n",
        "\n",
        "    def call(self,input_sequence,states,training=True):\n",
        "        '''\n",
        "          This function takes a sequence input and the initial states of the encoder.\n",
        "          Pass the input_sequence input to the Embedding layer, Pass the embedding layer ouput to encoder_lstm\n",
        "          returns -- encoder_output, last time step's hidden and cell state\n",
        "        '''\n",
        "        input_embedd= self.embedding(input_sequence)\n",
        "        self.lstm_output, self.lstm_state_h,self.lstm_state_c = self.lstm(input_embedd,initial_state=states)\n",
        "        return self.lstm_output, self.lstm_state_h,self.lstm_state_c\n",
        "    def initialize_states(self,batch_size):\n",
        "      '''\n",
        "      Given a batch size it will return intial hidden state and intial cell state.\n",
        "      If batch size is 32- Hidden state is zeros of size [32,lstm_units], cell state zeros is of size [32,lstm_units]\n",
        "      '''\n",
        "      state_h=tf.zeros((batch_size,self.enc_units))\n",
        "      state_c=tf.zeros((batch_size,self.enc_units))\n",
        "      return state_h, state_c"
      ]
    },
    {
      "cell_type": "code",
      "execution_count": null,
      "metadata": {
        "id": "GiKbmXZ-ERK9"
      },
      "outputs": [],
      "source": [
        "#https://medium.com/analytics-vidhya/neural-machine-translation-using-bahdanau-attention-mechanism-d496c9be30c3\n",
        "class Attention(tf.keras.layers.Layer):\n",
        "  '''\n",
        "    Class the calculates score based on the scoring_function using Bahdanu attention mechanism.\n",
        "  '''\n",
        "  def __init__(self,scoring_function, att_units):\n",
        "\n",
        "\n",
        "    # Please go through the reference notebook and research paper to complete the scoring functions\n",
        "    super().__init__()\n",
        "    self.scoring_function=scoring_function\n",
        "    self.att_units=att_units\n",
        "    \n",
        "    if self.scoring_function=='dot':\n",
        "      # Intialize variables needed for Dot score function here\n",
        "      self.dot=tf.keras.layers.Dot(axes=(1,2))\n",
        "\n",
        "    if self.scoring_function == 'general':\n",
        "      # Intialize variables needed for General score function here\n",
        "      self.dot=tf.keras.layers.Dot(axes=2)\n",
        "      self.W=tf.keras.layers.Dense(att_units)\n",
        "    \n",
        "    elif self.scoring_function == 'concat':\n",
        "      # Intialize variables needed for Concat score function here\n",
        "      self.W1 = tf.keras.layers.Dense(att_units)\n",
        "      self.W2 = tf.keras.layers.Dense(att_units)\n",
        "      self.V = tf.keras.layers.Dense(1)\n",
        "  \n",
        "  \n",
        "  def call(self,decoder_hidden_state,encoder_output):\n",
        "    '''\n",
        "      Attention mechanism takes two inputs current step -- decoder_hidden_state and all the encoder_outputs.\n",
        "      * Based on the scoring function we will find the score or similarity between decoder_hidden_state and encoder_output.\n",
        "        Multiply the score function with your encoder_outputs to get the context vector.\n",
        "        Function returns context vector and attention weights(softmax - scores)\n",
        "    '''\n",
        "    \n",
        "    if self.scoring_function == 'dot':\n",
        "        # Implement Dot score function here\n",
        "        score=self.dot([decoder_hidden_state,encoder_output])\n",
        "        attention_weights = tf.nn.softmax(score)\n",
        "        context_vector=tf.matmul(attention_weights,encoder_output)\n",
        "        context_vector = tf.reduce_sum(context_vector, axis=1)\n",
        "        #attention_weights=tf.convert_to_tensor(attention_weights)\n",
        "        #attention_weights=tf.reshape(attention_weights,(tf.shape(attention_weights)[0],tf.shape(attention_weights)[2],tf.shape(attention_weights)[1]))\n",
        "        attention_weights=tf.expand_dims(attention_weights,axis=2)\n",
        "        return context_vector, attention_weights\n",
        "\n",
        "    elif self.scoring_function == 'general':\n",
        "        decoder_hidden_state = tf.expand_dims(decoder_hidden_state, 1)\n",
        "        #score=self.dot([decoder_hidden_state,self.W(encoder_output)])\n",
        "        enc_dense=self.W(encoder_output)\n",
        "        similarity=tf.matmul(decoder_hidden_state,enc_dense,transpose_b=True)\n",
        "        attention_weights = tf.nn.softmax(similarity, axis=2)\n",
        "        context_vector = tf.matmul(attention_weights,encoder_output)\n",
        "        context_vector = tf.reduce_sum(context_vector, axis=1)\n",
        "        attention_weights=tf.transpose(attention_weights,perm=[0,2,1])\n",
        "        return context_vector, attention_weights\n",
        "    \n",
        "    elif self.scoring_function == 'concat':\n",
        "        decoder_hidden_state = tf.expand_dims(decoder_hidden_state, 1)\n",
        "        score = self.V(tf.nn.tanh(self.W1(decoder_hidden_state)) + self.W2(encoder_output))\n",
        "        attention_weights = tf.nn.softmax(score, axis=1)\n",
        "        context_vector = attention_weights*encoder_output\n",
        "        context_vector = tf.reduce_sum(context_vector, axis=1)\n",
        "        return context_vector, attention_weights"
      ]
    },
    {
      "cell_type": "code",
      "execution_count": null,
      "metadata": {
        "id": "2P9uYbQAEXCF"
      },
      "outputs": [],
      "source": [
        "class One_Step_Decoder(tf.keras.Model):\n",
        "  def __init__(self,tar_vocab_size, embedding_dim, input_length, dec_units ,score_fun ,att_units):\n",
        "\n",
        "    # Initialize decoder embedding layer, LSTM and any other objects needed\n",
        "    super().__init__()\n",
        "    self.vocab_size=tar_vocab_size\n",
        "    self.embedding_dim=embedding_dim\n",
        "    self.input_length=input_length\n",
        "    self.dec_units=dec_units\n",
        "    self.score_fun=score_fun\n",
        "    self.att_units=att_units\n",
        "\n",
        "  def build(self,input_shape):\n",
        "    self.embedding = tf.keras.layers.Embedding(self.vocab_size, output_dim=self.embedding_dim,input_length=self.input_length)\n",
        "    self.lstm = tf.keras.layers.LSTM(self.dec_units,return_sequences=True,return_state=True,recurrent_initializer='glorot_uniform')\n",
        "    self.attention = Attention(self.score_fun,self.att_units)\n",
        "    self.fc = Dense(self.vocab_size)\n",
        "\n",
        "  def call(self,input_to_decoder, encoder_output, state_h,state_c):\n",
        "    '''\n",
        "        One step decoder mechanisim step by step:\n",
        "      A. Pass the input_to_decoder to the embedding layer and then get the output(batch_size,1,embedding_dim)\n",
        "      B. Using the encoder_output and decoder hidden state, compute the context vector.\n",
        "      C. Concat the context vector with the step A output\n",
        "      D. Pass the Step-C output to LSTM/GRU and get the decoder output and states(hidden and cell state)\n",
        "      E. Pass the decoder output to dense layer(vocab size) and store the result into output.\n",
        "      F. Return the states from step D, output from Step E, attention weights from Step -B\n",
        "    '''\n",
        "    #print(input_to_decoder.shape)\n",
        "    x=self.embedding(input_to_decoder)\n",
        "    context_vector, attention_weights = self.attention(state_h, encoder_output)\n",
        "    #print(x.shape,context_vector.shape)\n",
        "    x = tf.concat([tf.expand_dims(context_vector, 1), x], axis=-1)\n",
        "    init_states=[state_h,state_c]\n",
        "    output, state_h,state_c = self.lstm(x,initial_state=init_states)\n",
        "    output = self.fc(output)\n",
        "    return tf.reduce_sum(output,1), state_h,state_c,attention_weights,context_vector"
      ]
    },
    {
      "cell_type": "code",
      "execution_count": null,
      "metadata": {
        "id": "IuAJFUG9EeU9"
      },
      "outputs": [],
      "source": [
        "class Decoder(tf.keras.Model):\n",
        "    def __init__(self,out_vocab_size, embedding_dim, input_length, dec_units ,score_fun ,att_units):\n",
        "      #Intialize necessary variables and create an object from the class onestepdecoder\n",
        "      super().__init__()\n",
        "      self.vocab_size = out_vocab_size+1\n",
        "      self.embedding_dim = embedding_dim\n",
        "      self.dec_units = dec_units\n",
        "      self.input_length = input_length\n",
        "      self.att_units=att_units\n",
        "      self.score_fun=score_fun\n",
        "      # we are using embedding_matrix and not training the embedding layer\n",
        "      self.one_step_decoder=One_Step_Decoder(self.vocab_size,self.embedding_dim,self.input_length,self.dec_units,self.score_fun,self.att_units)\n",
        "      \n",
        "    def call(self, input_to_decoder,encoder_output,decoder_hidden_state,decoder_cell_state ):\n",
        "\n",
        "        #Initialize an empty Tensor array, that will store the outputs at each and every time step\n",
        "        #Create a tensor array as shown in the reference notebook\n",
        "        \n",
        "        #Iterate till the length of the decoder input\n",
        "            # Call onestepdecoder for each token in decoder_input\n",
        "            # Store the output in tensorarray\n",
        "        # Return the tensor array\n",
        "        output_tensor_array=tf.TensorArray(tf.float32,size=36)\n",
        "        for timestamp in range(self.input_length):\n",
        "          #print(timestamp)\n",
        "          output,state_h,state_c,attention_weights,context_vector=self.one_step_decoder(input_to_decoder[:,timestamp:timestamp+1],encoder_output,decoder_hidden_state,decoder_cell_state)            \n",
        "          output_tensor_array=output_tensor_array.write(timestamp,output)\n",
        "        output_tensor_array=tf.transpose(output_tensor_array.stack(),[1,0,2])\n",
        "        return output_tensor_array"
      ]
    },
    {
      "cell_type": "code",
      "execution_count": null,
      "metadata": {
        "id": "epnE2ZLREhTm"
      },
      "outputs": [],
      "source": [
        "#decoder-(out_vocab_size, embedding_dim, input_length, dec_units ,score_fun ,att_units)\n",
        "#encoder(inp_vocab_size,embedding_size,lstm_size,input_length)\n",
        "class Encoder_decoder(tf.keras.Model):\n",
        "  def __init__(self,inp_vocab_size,embedding_size,input_length,lstm_size,out_vocab_size,batch_size,score_fun,att_units):\n",
        "    #Intialize objects from encoder decoder\n",
        "    super().__init__() # https://stackoverflow.com/a/27134600/4084039\n",
        "    self.vocab_size = inp_vocab_size\n",
        "    self.embedding_size = embedding_size \n",
        "    self.input_length = input_length\n",
        "    self.enc_units= lstm_size\n",
        "    self.out_vocab_size=out_vocab_size\n",
        "    self.score_fun=score_fun\n",
        "    self.att_units=att_units\n",
        "    self.batch_size=batch_size\n",
        "    self.encoder = Encoder(inp_vocab_size=self.vocab_size, embedding_size=self.embedding_size,input_length=61, lstm_size=self.enc_units)\n",
        "    self.decoder = Decoder(out_vocab_size=self.out_vocab_size, embedding_dim=self.embedding_size, dec_units=self.enc_units,input_length=36,score_fun=self.score_fun,att_units=self.att_units)\n",
        "        \n",
        "  \n",
        "  def call(self,data,*params):\n",
        "    \n",
        "    #Intialize encoder states, Pass the encoder_sequence to the embedding layer\n",
        "    # Decoder initial states are encoder final states, Initialize it accordingly\n",
        "    # Pass the decoder sequence,encoder_output,decoder states to Decoder\n",
        "    # return the decoder output \n",
        "\n",
        "    input,output = data[0], data[1]\n",
        "    initial_state=self.encoder.initialize_states(self.batch_size)\n",
        "    encoder_output, encoder_h, encoder_c = self.encoder(input,initial_state)\n",
        "    decoder_output= self.decoder(output,encoder_output,encoder_h,encoder_c)\n",
        "    return decoder_output "
      ]
    },
    {
      "cell_type": "code",
      "execution_count": null,
      "metadata": {
        "id": "hLq3DLnREq4Q"
      },
      "outputs": [],
      "source": [
        "loss_object = tf.keras.losses.SparseCategoricalCrossentropy(from_logits=True,reduction='none')\n",
        "def custom_lossfunction(targets,logits):\n",
        "\n",
        "  # Custom loss function that will not consider the loss for padded zeros.\n",
        "  # Refer https://www.tensorflow.org/tutorials/text/nmt_with_attention#define_the_optimizer_and_the_loss_function\n",
        "  mask=tf.math.logical_not(tf.math.equal(targets,0))\n",
        "  loss=loss_object(targets,logits)\n",
        "  dtype_loss=loss.dtype\n",
        "  mask=tf.cast(mask,dtype=dtype_loss)\n",
        "  loss=loss*mask\n",
        "  return tf.reduce_mean(loss)"
      ]
    },
    {
      "cell_type": "code",
      "execution_count": null,
      "metadata": {
        "id": "a0o3t7blE3mr"
      },
      "outputs": [],
      "source": [
        "from tensorflow.keras.callbacks import ReduceLROnPlateau, EarlyStopping, ModelCheckpoint\n",
        "import datetime\n",
        "#file path, it saves the model in the 'model_save' folder and we are naming model with epoch number \n",
        "filepath=\"model_best.hdf5\"\n",
        "checkpoint = ModelCheckpoint(filepath=filepath, \n",
        "                             monitor='val_loss', \n",
        "                             verbose=1, \n",
        "                             save_best_only=True, \n",
        "                             mode='auto',\n",
        "                             save_weights_only=True)\n",
        "\n",
        "\n",
        "# https://colab.research.google.com/github/tensorflow/tensorboard/blob/master/docs/get_started.ipynb#scrollTo=Ao7fJW1Pyiza\n",
        "log_dir = \"logs/fit/\" + datetime.datetime.now().strftime(\"%Y%m%d-%H%M%S\")\n",
        "tensorboard_callback = tf.keras.callbacks.TensorBoard(log_dir=log_dir, \n",
        "                                                      histogram_freq=1)"
      ]
    },
    {
      "cell_type": "code",
      "execution_count": null,
      "metadata": {
        "id": "DqfXX0PiE4ot"
      },
      "outputs": [],
      "source": [
        "earlystop = EarlyStopping(monitor='val_loss',\n",
        "                          min_delta=0.0, \n",
        "                          patience=5, \n",
        "                          verbose=1, \n",
        "                          mode='auto')\n",
        "callback_list = [checkpoint,earlystop, tensorboard_callback]"
      ]
    },
    {
      "attachments": {},
      "cell_type": "markdown",
      "metadata": {
        "id": "vUbZP57yyCho"
      },
      "source": [
        "# Featurizing and fitting along validation data"
      ]
    },
    {
      "cell_type": "code",
      "execution_count": null,
      "metadata": {
        "id": "l74dyGjqKGNy"
      },
      "outputs": [],
      "source": [
        "#Loading Json Train Data\n",
        "import jsonlines\n",
        "phase=[]\n",
        "table_id=[]\n",
        "question=[]\n",
        "sql=[]\n",
        "with jsonlines.open(\"dev.jsonl\") as f:\n",
        "  for line in f.iter():\n",
        "    phase.append(line['phase'])\n",
        "    table_id.append(line['table_id'])\n",
        "    question.append(line['question'])\n",
        "    sql.append(line['sql'])\n",
        "import pandas as pd\n",
        "d={'phase':phase,'table_id':table_id,'question':question,'sql':sql}\n",
        "val_data=pd.DataFrame(d)\n",
        "val_data\n",
        "f.close()"
      ]
    },
    {
      "cell_type": "code",
      "execution_count": null,
      "metadata": {
        "id": "TCCFg8PiKNm3"
      },
      "outputs": [],
      "source": [
        "val_data.columns=['phase','id','question','sql']"
      ]
    },
    {
      "cell_type": "code",
      "execution_count": null,
      "metadata": {
        "colab": {
          "base_uri": "https://localhost:8080/",
          "height": 417
        },
        "id": "n9gouhbFKP9V",
        "outputId": "b6a73232-4f44-4bf6-e153-cb3c4def9bdb"
      },
      "outputs": [
        {
          "data": {
            "text/html": [
              "<div>\n",
              "<style scoped>\n",
              "    .dataframe tbody tr th:only-of-type {\n",
              "        vertical-align: middle;\n",
              "    }\n",
              "\n",
              "    .dataframe tbody tr th {\n",
              "        vertical-align: top;\n",
              "    }\n",
              "\n",
              "    .dataframe thead th {\n",
              "        text-align: right;\n",
              "    }\n",
              "</style>\n",
              "<table border=\"1\" class=\"dataframe\">\n",
              "  <thead>\n",
              "    <tr style=\"text-align: right;\">\n",
              "      <th></th>\n",
              "      <th>id</th>\n",
              "      <th>header</th>\n",
              "      <th>types</th>\n",
              "      <th>rows</th>\n",
              "    </tr>\n",
              "  </thead>\n",
              "  <tbody>\n",
              "    <tr>\n",
              "      <th>0</th>\n",
              "      <td>1-10015132-11</td>\n",
              "      <td>[Player, No., Nationality, Position, Years in ...</td>\n",
              "      <td>[text, text, text, text, text, text]</td>\n",
              "      <td>[[Antonio Lang, 21, United States, Guard-Forwa...</td>\n",
              "    </tr>\n",
              "    <tr>\n",
              "      <th>1</th>\n",
              "      <td>1-10015132-9</td>\n",
              "      <td>[Player, No., Nationality, Position, Years in ...</td>\n",
              "      <td>[text, text, text, text, text, text]</td>\n",
              "      <td>[[Jarrett Jack, 1, United States, Guard, 2009-...</td>\n",
              "    </tr>\n",
              "    <tr>\n",
              "      <th>2</th>\n",
              "      <td>1-10026563-1</td>\n",
              "      <td>[Entered office as Head of State or Government...</td>\n",
              "      <td>[text, text, text, text, text]</td>\n",
              "      <td>[[16 October 1964, 15 November 1975, 5 April 1...</td>\n",
              "    </tr>\n",
              "    <tr>\n",
              "      <th>3</th>\n",
              "      <td>1-1008653-1</td>\n",
              "      <td>[Country ( exonym ), Capital ( exonym ), Count...</td>\n",
              "      <td>[text, text, text, text, text]</td>\n",
              "      <td>[[Afghanistan, Kabul, Afghanestan افغانستان, K...</td>\n",
              "    </tr>\n",
              "    <tr>\n",
              "      <th>4</th>\n",
              "      <td>1-10088101-1</td>\n",
              "      <td>[No. in set, No. in series, Title, Directed by...</td>\n",
              "      <td>[real, real, text, text, text, text, text]</td>\n",
              "      <td>[[1, 174, \" Per Manum \", Kim Manners, Chris Ca...</td>\n",
              "    </tr>\n",
              "    <tr>\n",
              "      <th>...</th>\n",
              "      <td>...</td>\n",
              "      <td>...</td>\n",
              "      <td>...</td>\n",
              "      <td>...</td>\n",
              "    </tr>\n",
              "    <tr>\n",
              "      <th>2711</th>\n",
              "      <td>2-18999963-3</td>\n",
              "      <td>[Year, Program, Role, Episode, First aired]</td>\n",
              "      <td>[real, text, text, text, text]</td>\n",
              "      <td>[[1957, Alfred Hitchcock Presents, Charles Cou...</td>\n",
              "    </tr>\n",
              "    <tr>\n",
              "      <th>2712</th>\n",
              "      <td>2-19000748-1</td>\n",
              "      <td>[Round, Pick, Player, Nationality, College/Jun...</td>\n",
              "      <td>[real, real, text, text, text]</td>\n",
              "      <td>[[1, 3., Rick Hampton, Canada, St. Catharines ...</td>\n",
              "    </tr>\n",
              "    <tr>\n",
              "      <th>2713</th>\n",
              "      <td>2-19000872-1</td>\n",
              "      <td>[Round, Pick, Player, Nationality, College/jun...</td>\n",
              "      <td>[real, real, text, text, text]</td>\n",
              "      <td>[[1, 5., Mike Crombeen, Canada, Kingston Canad...</td>\n",
              "    </tr>\n",
              "    <tr>\n",
              "      <th>2714</th>\n",
              "      <td>2-19001175-2</td>\n",
              "      <td>[Country, Total Drivers, Championship Titles, ...</td>\n",
              "      <td>[text, real, text, text, real, real, real, rea...</td>\n",
              "      <td>[[Argentina, 11, 0, 119 (113), 0, 0, 3, 2, 64]...</td>\n",
              "    </tr>\n",
              "    <tr>\n",
              "      <th>2715</th>\n",
              "      <td>2-19004438-1</td>\n",
              "      <td>[Country, Event, Time, Date, Place]</td>\n",
              "      <td>[text, text, text, text, text]</td>\n",
              "      <td>[[CPV, marathon, 2:19:14, April 10, 2005, Rott...</td>\n",
              "    </tr>\n",
              "  </tbody>\n",
              "</table>\n",
              "<p>2716 rows × 4 columns</p>\n",
              "</div>"
            ],
            "text/plain": [
              "                 id  ...                                               rows\n",
              "0     1-10015132-11  ...  [[Antonio Lang, 21, United States, Guard-Forwa...\n",
              "1      1-10015132-9  ...  [[Jarrett Jack, 1, United States, Guard, 2009-...\n",
              "2      1-10026563-1  ...  [[16 October 1964, 15 November 1975, 5 April 1...\n",
              "3       1-1008653-1  ...  [[Afghanistan, Kabul, Afghanestan افغانستان, K...\n",
              "4      1-10088101-1  ...  [[1, 174, \" Per Manum \", Kim Manners, Chris Ca...\n",
              "...             ...  ...                                                ...\n",
              "2711   2-18999963-3  ...  [[1957, Alfred Hitchcock Presents, Charles Cou...\n",
              "2712   2-19000748-1  ...  [[1, 3., Rick Hampton, Canada, St. Catharines ...\n",
              "2713   2-19000872-1  ...  [[1, 5., Mike Crombeen, Canada, Kingston Canad...\n",
              "2714   2-19001175-2  ...  [[Argentina, 11, 0, 119 (113), 0, 0, 3, 2, 64]...\n",
              "2715   2-19004438-1  ...  [[CPV, marathon, 2:19:14, April 10, 2005, Rott...\n",
              "\n",
              "[2716 rows x 4 columns]"
            ]
          },
          "execution_count": 52,
          "metadata": {},
          "output_type": "execute_result"
        }
      ],
      "source": [
        "import jsonlines\n",
        "id=[]\n",
        "header=[]\n",
        "types=[]\n",
        "rows=[]\n",
        "with jsonlines.open(\"dev.tables.jsonl\") as f:\n",
        "  for line in f.iter():\n",
        "    id.append((line['id']))\n",
        "    header.append((line['header']))\n",
        "    types.append((line['types']))\n",
        "    rows.append(line['rows'])\n",
        "d={'id':id,'header':header,'types':types,'rows':rows}\n",
        "val_table_info=pd.DataFrame(d)\n",
        "val_table_info"
      ]
    },
    {
      "cell_type": "code",
      "execution_count": null,
      "metadata": {
        "colab": {
          "base_uri": "https://localhost:8080/",
          "height": 585
        },
        "id": "qSg7UYSJKSuk",
        "outputId": "993958cb-a0be-4433-eb14-389f044dcc24"
      },
      "outputs": [
        {
          "data": {
            "text/html": [
              "<div>\n",
              "<style scoped>\n",
              "    .dataframe tbody tr th:only-of-type {\n",
              "        vertical-align: middle;\n",
              "    }\n",
              "\n",
              "    .dataframe tbody tr th {\n",
              "        vertical-align: top;\n",
              "    }\n",
              "\n",
              "    .dataframe thead th {\n",
              "        text-align: right;\n",
              "    }\n",
              "</style>\n",
              "<table border=\"1\" class=\"dataframe\">\n",
              "  <thead>\n",
              "    <tr style=\"text-align: right;\">\n",
              "      <th></th>\n",
              "      <th>phase</th>\n",
              "      <th>id</th>\n",
              "      <th>question</th>\n",
              "      <th>sql</th>\n",
              "      <th>header</th>\n",
              "      <th>types</th>\n",
              "      <th>rows</th>\n",
              "    </tr>\n",
              "  </thead>\n",
              "  <tbody>\n",
              "    <tr>\n",
              "      <th>0</th>\n",
              "      <td>1</td>\n",
              "      <td>1-10015132-11</td>\n",
              "      <td>What position does the player who played for b...</td>\n",
              "      <td>{'sel': 3, 'conds': [[5, 0, 'Butler CC (KS)']]...</td>\n",
              "      <td>[Player, No., Nationality, Position, Years in ...</td>\n",
              "      <td>[text, text, text, text, text, text]</td>\n",
              "      <td>[[Antonio Lang, 21, United States, Guard-Forwa...</td>\n",
              "    </tr>\n",
              "    <tr>\n",
              "      <th>1</th>\n",
              "      <td>1</td>\n",
              "      <td>1-10015132-11</td>\n",
              "      <td>How many schools did player number 3 play at?</td>\n",
              "      <td>{'sel': 5, 'conds': [[1, 0, '3']], 'agg': 3}</td>\n",
              "      <td>[Player, No., Nationality, Position, Years in ...</td>\n",
              "      <td>[text, text, text, text, text, text]</td>\n",
              "      <td>[[Antonio Lang, 21, United States, Guard-Forwa...</td>\n",
              "    </tr>\n",
              "    <tr>\n",
              "      <th>2</th>\n",
              "      <td>1</td>\n",
              "      <td>1-10015132-11</td>\n",
              "      <td>What school did player number 21 play for?</td>\n",
              "      <td>{'sel': 5, 'conds': [[1, 0, '21']], 'agg': 0}</td>\n",
              "      <td>[Player, No., Nationality, Position, Years in ...</td>\n",
              "      <td>[text, text, text, text, text, text]</td>\n",
              "      <td>[[Antonio Lang, 21, United States, Guard-Forwa...</td>\n",
              "    </tr>\n",
              "    <tr>\n",
              "      <th>3</th>\n",
              "      <td>1</td>\n",
              "      <td>1-10015132-11</td>\n",
              "      <td>Who is the player that wears number 42?</td>\n",
              "      <td>{'sel': 0, 'conds': [[1, 0, '42']], 'agg': 0}</td>\n",
              "      <td>[Player, No., Nationality, Position, Years in ...</td>\n",
              "      <td>[text, text, text, text, text, text]</td>\n",
              "      <td>[[Antonio Lang, 21, United States, Guard-Forwa...</td>\n",
              "    </tr>\n",
              "    <tr>\n",
              "      <th>4</th>\n",
              "      <td>1</td>\n",
              "      <td>1-10015132-11</td>\n",
              "      <td>What player played guard for toronto in 1996-97?</td>\n",
              "      <td>{'sel': 0, 'conds': [[3, 0, 'Guard'], [4, 0, '...</td>\n",
              "      <td>[Player, No., Nationality, Position, Years in ...</td>\n",
              "      <td>[text, text, text, text, text, text]</td>\n",
              "      <td>[[Antonio Lang, 21, United States, Guard-Forwa...</td>\n",
              "    </tr>\n",
              "    <tr>\n",
              "      <th>...</th>\n",
              "      <td>...</td>\n",
              "      <td>...</td>\n",
              "      <td>...</td>\n",
              "      <td>...</td>\n",
              "      <td>...</td>\n",
              "      <td>...</td>\n",
              "      <td>...</td>\n",
              "    </tr>\n",
              "    <tr>\n",
              "      <th>8416</th>\n",
              "      <td>2</td>\n",
              "      <td>2-12206617-2</td>\n",
              "      <td>Which loss has an attendance greater than 49,6...</td>\n",
              "      <td>{'sel': 3, 'conds': [[4, 1, '49,688'], [5, 0, ...</td>\n",
              "      <td>[Date, Opponent, Score, Loss, Attendance, Record]</td>\n",
              "      <td>[text, text, text, text, real, text]</td>\n",
              "      <td>[[April 8, Red Sox, 6 - 2, Stieb (0-1), 50,114...</td>\n",
              "    </tr>\n",
              "    <tr>\n",
              "      <th>8417</th>\n",
              "      <td>2</td>\n",
              "      <td>2-12206617-2</td>\n",
              "      <td>What is the largest attendance that has tigers...</td>\n",
              "      <td>{'sel': 4, 'conds': [[1, 0, 'tigers'], [3, 0, ...</td>\n",
              "      <td>[Date, Opponent, Score, Loss, Attendance, Record]</td>\n",
              "      <td>[text, text, text, text, real, text]</td>\n",
              "      <td>[[April 8, Red Sox, 6 - 2, Stieb (0-1), 50,114...</td>\n",
              "    </tr>\n",
              "    <tr>\n",
              "      <th>8418</th>\n",
              "      <td>2</td>\n",
              "      <td>2-12601141-1</td>\n",
              "      <td>Which party has Peter A. Quinn as a representa...</td>\n",
              "      <td>{'sel': 3, 'conds': [[0, 0, 'peter a. quinn']]...</td>\n",
              "      <td>[Representative, Years, State, Party, Lifespan]</td>\n",
              "      <td>[text, text, text, text, text]</td>\n",
              "      <td>[[John A. Quackenbush, 1889–1893, New York, Re...</td>\n",
              "    </tr>\n",
              "    <tr>\n",
              "      <th>8419</th>\n",
              "      <td>2</td>\n",
              "      <td>2-12601141-1</td>\n",
              "      <td>Which state does Jimmy Quillen represent?</td>\n",
              "      <td>{'sel': 2, 'conds': [[0, 0, 'jimmy quillen']],...</td>\n",
              "      <td>[Representative, Years, State, Party, Lifespan]</td>\n",
              "      <td>[text, text, text, text, text]</td>\n",
              "      <td>[[John A. Quackenbush, 1889–1893, New York, Re...</td>\n",
              "    </tr>\n",
              "    <tr>\n",
              "      <th>8420</th>\n",
              "      <td>2</td>\n",
              "      <td>2-12601141-1</td>\n",
              "      <td>What is the lifespan of the democratic party i...</td>\n",
              "      <td>{'sel': 4, 'conds': [[3, 0, 'democratic'], [2,...</td>\n",
              "      <td>[Representative, Years, State, Party, Lifespan]</td>\n",
              "      <td>[text, text, text, text, text]</td>\n",
              "      <td>[[John A. Quackenbush, 1889–1893, New York, Re...</td>\n",
              "    </tr>\n",
              "  </tbody>\n",
              "</table>\n",
              "<p>8421 rows × 7 columns</p>\n",
              "</div>"
            ],
            "text/plain": [
              "      phase  ...                                               rows\n",
              "0         1  ...  [[Antonio Lang, 21, United States, Guard-Forwa...\n",
              "1         1  ...  [[Antonio Lang, 21, United States, Guard-Forwa...\n",
              "2         1  ...  [[Antonio Lang, 21, United States, Guard-Forwa...\n",
              "3         1  ...  [[Antonio Lang, 21, United States, Guard-Forwa...\n",
              "4         1  ...  [[Antonio Lang, 21, United States, Guard-Forwa...\n",
              "...     ...  ...                                                ...\n",
              "8416      2  ...  [[April 8, Red Sox, 6 - 2, Stieb (0-1), 50,114...\n",
              "8417      2  ...  [[April 8, Red Sox, 6 - 2, Stieb (0-1), 50,114...\n",
              "8418      2  ...  [[John A. Quackenbush, 1889–1893, New York, Re...\n",
              "8419      2  ...  [[John A. Quackenbush, 1889–1893, New York, Re...\n",
              "8420      2  ...  [[John A. Quackenbush, 1889–1893, New York, Re...\n",
              "\n",
              "[8421 rows x 7 columns]"
            ]
          },
          "execution_count": 53,
          "metadata": {},
          "output_type": "execute_result"
        }
      ],
      "source": [
        "val_merged_data=val_data.merge(val_table_info,on='id')\n",
        "val_merged_data"
      ]
    },
    {
      "cell_type": "code",
      "execution_count": null,
      "metadata": {
        "colab": {
          "base_uri": "https://localhost:8080/"
        },
        "id": "tTWfvHqaKcJq",
        "outputId": "b84ace69-176c-4c4d-e73d-5d2a82989693"
      },
      "outputs": [
        {
          "name": "stderr",
          "output_type": "stream",
          "text": [
            "100%|██████████| 8421/8421 [00:00<00:00, 14754.67it/s]\n"
          ]
        }
      ],
      "source": [
        "#Converting dictionary sql answer into sql text for using in seq-seq model\n",
        "from tqdm import tqdm \n",
        "sql_in_text=[]\n",
        "aggregate=['','MAX','MIN','COUNT','SUM','AVG']\n",
        "operator=['=','<','>']\n",
        "word_operator=['eq','lt','gt']\n",
        "\n",
        "for i in tqdm(range(len(val_merged_data))):\n",
        "  sql=val_merged_data.sql.iloc[i]\n",
        "  col=val_merged_data.header.iloc[i][sql['sel']]\n",
        "  agg=aggregate[sql['agg']]\n",
        "  cond_col=[]\n",
        "  cond_opr=[]\n",
        "  cond_value=[]\n",
        "  for j in sql['conds']:\n",
        "    cond_col.append(val_merged_data.header.iloc[i][j[0]])\n",
        "    cond_opr.append(word_operator[j[1]])\n",
        "    cond_value.append(j[2])\n",
        "  resulted_sql=\"select \"\n",
        "  if(agg==''):\n",
        "    resulted_sql+=col+\" where \"\n",
        "  else:\n",
        "    resulted_sql+=agg+\"(\"+col+\") where \"\n",
        "\n",
        "  for j in range(len(cond_col)):\n",
        "    if(j!=0):\n",
        "      resulted_sql+=\"and \"\n",
        "    resulted_sql+=cond_col[j]+' '+cond_opr[j]+' '\n",
        "    resulted_sql+=str(cond_value[j])+' '\n",
        "\n",
        "  sql_in_text.append(resulted_sql)"
      ]
    },
    {
      "cell_type": "code",
      "execution_count": null,
      "metadata": {
        "id": "rQJ9rHMdKenQ"
      },
      "outputs": [],
      "source": [
        "val_merged_data['resulted_sql']=sql_in_text"
      ]
    },
    {
      "cell_type": "code",
      "execution_count": null,
      "metadata": {
        "id": "UmtLgkzYKhFB"
      },
      "outputs": [],
      "source": [
        "#Concatinating question and headers\n",
        "question_header=[]\n",
        "for i in range(len(val_merged_data)):\n",
        "  question=val_merged_data.question.iloc[i]\n",
        "  header=val_merged_data.header.iloc[i]\n",
        "  '''a=header.split(',')\n",
        "  for i in range(len(a)):\n",
        "    a[i]=a[i].replace('[','')\n",
        "    a[i]=a[i].replace(\"'\",'')\n",
        "    a[i]=a[i].replace(',','')\n",
        "    a[i]=a[i].replace(']','')'''\n",
        "  for head in header: \n",
        "    question+=' '+head\n",
        "  question_header.append(question)"
      ]
    },
    {
      "cell_type": "code",
      "execution_count": null,
      "metadata": {
        "id": "Z6RZ8K4RKljP"
      },
      "outputs": [],
      "source": [
        "import re\n",
        "preprocess_question_header=[]\n",
        "for i in question_header:\n",
        "  preprocess_question_header.append(preprocess(i))"
      ]
    },
    {
      "cell_type": "code",
      "execution_count": null,
      "metadata": {
        "id": "tj2rZ7IvKoBn"
      },
      "outputs": [],
      "source": [
        "preprocess_sql_in_text=[]\n",
        "for i in val_merged_data['resulted_sql'].values:\n",
        "  preprocess_sql_in_text.append(preprocess(i))"
      ]
    },
    {
      "cell_type": "code",
      "execution_count": null,
      "metadata": {
        "colab": {
          "base_uri": "https://localhost:8080/",
          "height": 417
        },
        "id": "GEM_vVkBKtLh",
        "outputId": "a39f975e-9ac4-419f-fc40-d7f06e9116c5"
      },
      "outputs": [
        {
          "data": {
            "text/html": [
              "<div>\n",
              "<style scoped>\n",
              "    .dataframe tbody tr th:only-of-type {\n",
              "        vertical-align: middle;\n",
              "    }\n",
              "\n",
              "    .dataframe tbody tr th {\n",
              "        vertical-align: top;\n",
              "    }\n",
              "\n",
              "    .dataframe thead th {\n",
              "        text-align: right;\n",
              "    }\n",
              "</style>\n",
              "<table border=\"1\" class=\"dataframe\">\n",
              "  <thead>\n",
              "    <tr style=\"text-align: right;\">\n",
              "      <th></th>\n",
              "      <th>question_header</th>\n",
              "      <th>sql</th>\n",
              "    </tr>\n",
              "  </thead>\n",
              "  <tbody>\n",
              "    <tr>\n",
              "      <th>0</th>\n",
              "      <td>What position does the player who played for b...</td>\n",
              "      <td>select position where school/club team eq butl...</td>\n",
              "    </tr>\n",
              "    <tr>\n",
              "      <th>1</th>\n",
              "      <td>How many schools did player number 3 play at? ...</td>\n",
              "      <td>select count(school/club team) where no. eq 3</td>\n",
              "    </tr>\n",
              "    <tr>\n",
              "      <th>2</th>\n",
              "      <td>What school did player number 21 play for? Pla...</td>\n",
              "      <td>select school/club team where no. eq 21</td>\n",
              "    </tr>\n",
              "    <tr>\n",
              "      <th>3</th>\n",
              "      <td>Who is the player that wears number 42? Player...</td>\n",
              "      <td>select player where no. eq 42</td>\n",
              "    </tr>\n",
              "    <tr>\n",
              "      <th>4</th>\n",
              "      <td>What player played guard for toronto in 1996-9...</td>\n",
              "      <td>select player where position eq guard and year...</td>\n",
              "    </tr>\n",
              "    <tr>\n",
              "      <th>...</th>\n",
              "      <td>...</td>\n",
              "      <td>...</td>\n",
              "    </tr>\n",
              "    <tr>\n",
              "      <th>8416</th>\n",
              "      <td>Which loss has an attendance greater than 49,6...</td>\n",
              "      <td>select loss where attendance lt 49,688 and rec...</td>\n",
              "    </tr>\n",
              "    <tr>\n",
              "      <th>8417</th>\n",
              "      <td>What is the largest attendance that has tigers...</td>\n",
              "      <td>select max(attendance) where opponent eq tiger...</td>\n",
              "    </tr>\n",
              "    <tr>\n",
              "      <th>8418</th>\n",
              "      <td>Which party has Peter A. Quinn as a representa...</td>\n",
              "      <td>select party where representative eq peter a. ...</td>\n",
              "    </tr>\n",
              "    <tr>\n",
              "      <th>8419</th>\n",
              "      <td>Which state does Jimmy Quillen represent? Repr...</td>\n",
              "      <td>select state where representative eq jimmy qui...</td>\n",
              "    </tr>\n",
              "    <tr>\n",
              "      <th>8420</th>\n",
              "      <td>What is the lifespan of the democratic party i...</td>\n",
              "      <td>select lifespan where party eq democratic and ...</td>\n",
              "    </tr>\n",
              "  </tbody>\n",
              "</table>\n",
              "<p>8421 rows × 2 columns</p>\n",
              "</div>"
            ],
            "text/plain": [
              "                                        question_header                                                sql\n",
              "0     What position does the player who played for b...  select position where school/club team eq butl...\n",
              "1     How many schools did player number 3 play at? ...     select count(school/club team) where no. eq 3 \n",
              "2     What school did player number 21 play for? Pla...           select school/club team where no. eq 21 \n",
              "3     Who is the player that wears number 42? Player...                     select player where no. eq 42 \n",
              "4     What player played guard for toronto in 1996-9...  select player where position eq guard and year...\n",
              "...                                                 ...                                                ...\n",
              "8416  Which loss has an attendance greater than 49,6...  select loss where attendance lt 49,688 and rec...\n",
              "8417  What is the largest attendance that has tigers...  select max(attendance) where opponent eq tiger...\n",
              "8418  Which party has Peter A. Quinn as a representa...  select party where representative eq peter a. ...\n",
              "8419  Which state does Jimmy Quillen represent? Repr...  select state where representative eq jimmy qui...\n",
              "8420  What is the lifespan of the democratic party i...  select lifespan where party eq democratic and ...\n",
              "\n",
              "[8421 rows x 2 columns]"
            ]
          },
          "execution_count": 59,
          "metadata": {},
          "output_type": "execute_result"
        }
      ],
      "source": [
        "val_final_data=pd.DataFrame()\n",
        "val_final_data['question_header']=question_header\n",
        "val_final_data['sql']=preprocess_sql_in_text\n",
        "val_final_data"
      ]
    },
    {
      "cell_type": "code",
      "execution_count": null,
      "metadata": {
        "id": "YOb8UF0rMKyJ"
      },
      "outputs": [],
      "source": [
        "val_final_data.to_csv('val_final_data.csv')"
      ]
    },
    {
      "cell_type": "code",
      "execution_count": null,
      "metadata": {
        "id": "Mj8z-jobmdwT"
      },
      "outputs": [],
      "source": [
        "val_final_data=pd.read_csv('val_final_data.csv')"
      ]
    },
    {
      "cell_type": "code",
      "execution_count": null,
      "metadata": {
        "id": "TSyiWK_wMrW0"
      },
      "outputs": [],
      "source": [
        "pos=[]\n",
        "for i in range(len(val_final_data.question_header)):\n",
        "  #print(len(val_final_data.question_header.iloc[i].split()),len(val_final_data.sql.iloc[i].split()))\n",
        "  if(len(val_final_data.question_header.iloc[i].split())<=60 and len(val_final_data.sql.iloc[i].split())<=35):\n",
        "    pos.append(i)"
      ]
    },
    {
      "cell_type": "code",
      "execution_count": null,
      "metadata": {
        "colab": {
          "base_uri": "https://localhost:8080/"
        },
        "id": "GIiTI_v1M_0e",
        "outputId": "8a218889-0539-44a3-e952-cf283d7ceb25"
      },
      "outputs": [
        {
          "data": {
            "text/plain": [
              "8393"
            ]
          },
          "execution_count": 63,
          "metadata": {},
          "output_type": "execute_result"
        }
      ],
      "source": [
        "len(pos)"
      ]
    },
    {
      "cell_type": "code",
      "execution_count": null,
      "metadata": {
        "id": "BOlgpjvYNkAP"
      },
      "outputs": [],
      "source": [
        "data=val_final_data.iloc[pos]"
      ]
    },
    {
      "cell_type": "code",
      "execution_count": null,
      "metadata": {
        "colab": {
          "base_uri": "https://localhost:8080/"
        },
        "id": "qegygFWvNti6",
        "outputId": "2abcd044-84a6-4f3d-f863-eabbd839a5a8"
      },
      "outputs": [
        {
          "name": "stderr",
          "output_type": "stream",
          "text": [
            "/usr/local/lib/python3.7/dist-packages/ipykernel_launcher.py:1: SettingWithCopyWarning: \n",
            "A value is trying to be set on a copy of a slice from a DataFrame.\n",
            "Try using .loc[row_indexer,col_indexer] = value instead\n",
            "\n",
            "See the caveats in the documentation: https://pandas.pydata.org/pandas-docs/stable/user_guide/indexing.html#returning-a-view-versus-a-copy\n",
            "  \"\"\"Entry point for launching an IPython kernel.\n",
            "/usr/local/lib/python3.7/dist-packages/ipykernel_launcher.py:2: SettingWithCopyWarning: \n",
            "A value is trying to be set on a copy of a slice from a DataFrame.\n",
            "Try using .loc[row_indexer,col_indexer] = value instead\n",
            "\n",
            "See the caveats in the documentation: https://pandas.pydata.org/pandas-docs/stable/user_guide/indexing.html#returning-a-view-versus-a-copy\n",
            "  \n"
          ]
        }
      ],
      "source": [
        "data['sql_input'] = '<start> ' + data['sql'].astype(str)\n",
        "data['sql_output'] = data['sql'].astype(str) + ' <end>'"
      ]
    },
    {
      "cell_type": "code",
      "execution_count": null,
      "metadata": {
        "colab": {
          "base_uri": "https://localhost:8080/"
        },
        "id": "f3qk4o6FQNPy",
        "outputId": "02c75982-ff09-4387-9acf-44c222ae4180"
      },
      "outputs": [
        {
          "data": {
            "text/plain": [
              "(8393, 5)"
            ]
          },
          "execution_count": 66,
          "metadata": {},
          "output_type": "execute_result"
        }
      ],
      "source": [
        "data.shape"
      ]
    },
    {
      "cell_type": "code",
      "execution_count": null,
      "metadata": {
        "colab": {
          "base_uri": "https://localhost:8080/"
        },
        "id": "DvIunnP9N7Ub",
        "outputId": "acc58aea-cd25-45e8-8c7f-3e0e9dab61e0"
      },
      "outputs": [
        {
          "name": "stdout",
          "output_type": "stream",
          "text": [
            "(64, 61) (64, 36) (64, 36)\n"
          ]
        }
      ],
      "source": [
        "#max_length=61\n",
        "val_dataset = Dataset(data, tknizer_question, tknizer_sql, 61)\n",
        "val_dataloader = Dataloder(val_dataset, batch_size=64)\n",
        "print(val_dataloader[0][0][0].shape, val_dataloader[0][0][1].shape, val_dataloader[0][1].shape)"
      ]
    },
    {
      "attachments": {},
      "cell_type": "markdown",
      "metadata": {
        "id": "C3IJp4fExf1T"
      },
      "source": [
        "**Training with validation dataset**"
      ]
    },
    {
      "cell_type": "code",
      "execution_count": null,
      "metadata": {
        "colab": {
          "base_uri": "https://localhost:8080/"
        },
        "id": "rTJLrmReophf",
        "outputId": "83869c05-10bd-4019-bb16-563bab4860c7"
      },
      "outputs": [
        {
          "name": "stdout",
          "output_type": "stream",
          "text": [
            "Epoch 1/40\n",
            "879/879 [==============================] - 250s 223ms/step - loss: 1.8279 - val_loss: 1.5810\n",
            "\n",
            "Epoch 00001: val_loss improved from inf to 1.58097, saving model to model_best.hdf5\n",
            "Epoch 2/40\n",
            "879/879 [==============================] - 175s 200ms/step - loss: 1.5978 - val_loss: 1.3215\n",
            "\n",
            "Epoch 00002: val_loss improved from 1.58097 to 1.32147, saving model to model_best.hdf5\n",
            "Epoch 3/40\n",
            "879/879 [==============================] - 175s 199ms/step - loss: 1.3627 - val_loss: 1.1663\n",
            "\n",
            "Epoch 00003: val_loss improved from 1.32147 to 1.16631, saving model to model_best.hdf5\n",
            "Epoch 4/40\n",
            "879/879 [==============================] - 175s 200ms/step - loss: 1.2117 - val_loss: 1.0611\n",
            "\n",
            "Epoch 00004: val_loss improved from 1.16631 to 1.06113, saving model to model_best.hdf5\n",
            "Epoch 5/40\n",
            "879/879 [==============================] - 175s 199ms/step - loss: 1.1024 - val_loss: 0.9880\n",
            "\n",
            "Epoch 00005: val_loss improved from 1.06113 to 0.98801, saving model to model_best.hdf5\n",
            "Epoch 6/40\n",
            "879/879 [==============================] - 175s 199ms/step - loss: 1.0149 - val_loss: 0.9286\n",
            "\n",
            "Epoch 00006: val_loss improved from 0.98801 to 0.92858, saving model to model_best.hdf5\n",
            "Epoch 7/40\n",
            "879/879 [==============================] - 175s 200ms/step - loss: 0.9404 - val_loss: 0.8847\n",
            "\n",
            "Epoch 00007: val_loss improved from 0.92858 to 0.88467, saving model to model_best.hdf5\n",
            "Epoch 8/40\n",
            "879/879 [==============================] - 175s 200ms/step - loss: 0.8748 - val_loss: 0.8494\n",
            "\n",
            "Epoch 00008: val_loss improved from 0.88467 to 0.84945, saving model to model_best.hdf5\n",
            "Epoch 9/40\n",
            "879/879 [==============================] - 176s 200ms/step - loss: 0.8154 - val_loss: 0.8156\n",
            "\n",
            "Epoch 00009: val_loss improved from 0.84945 to 0.81564, saving model to model_best.hdf5\n",
            "Epoch 10/40\n",
            "879/879 [==============================] - 175s 199ms/step - loss: 0.7622 - val_loss: 0.7906\n",
            "\n",
            "Epoch 00010: val_loss improved from 0.81564 to 0.79063, saving model to model_best.hdf5\n",
            "Epoch 11/40\n",
            "879/879 [==============================] - 175s 199ms/step - loss: 0.7144 - val_loss: 0.7715\n",
            "\n",
            "Epoch 00011: val_loss improved from 0.79063 to 0.77152, saving model to model_best.hdf5\n",
            "Epoch 12/40\n",
            "879/879 [==============================] - 176s 200ms/step - loss: 0.6707 - val_loss: 0.7538\n",
            "\n",
            "Epoch 00012: val_loss improved from 0.77152 to 0.75377, saving model to model_best.hdf5\n",
            "Epoch 13/40\n",
            "879/879 [==============================] - 176s 200ms/step - loss: 0.6301 - val_loss: 0.7405\n",
            "\n",
            "Epoch 00013: val_loss improved from 0.75377 to 0.74047, saving model to model_best.hdf5\n",
            "Epoch 14/40\n",
            "879/879 [==============================] - 175s 200ms/step - loss: 0.5924 - val_loss: 0.7285\n",
            "\n",
            "Epoch 00014: val_loss improved from 0.74047 to 0.72849, saving model to model_best.hdf5\n",
            "Epoch 15/40\n",
            "879/879 [==============================] - 175s 199ms/step - loss: 0.5571 - val_loss: 0.7194\n",
            "\n",
            "Epoch 00015: val_loss improved from 0.72849 to 0.71944, saving model to model_best.hdf5\n",
            "Epoch 16/40\n",
            "879/879 [==============================] - 175s 199ms/step - loss: 0.5244 - val_loss: 0.7127\n",
            "\n",
            "Epoch 00016: val_loss improved from 0.71944 to 0.71267, saving model to model_best.hdf5\n",
            "Epoch 17/40\n",
            "879/879 [==============================] - 175s 199ms/step - loss: 0.4937 - val_loss: 0.7065\n",
            "\n",
            "Epoch 00017: val_loss improved from 0.71267 to 0.70652, saving model to model_best.hdf5\n",
            "Epoch 18/40\n",
            "879/879 [==============================] - 176s 200ms/step - loss: 0.4651 - val_loss: 0.7022\n",
            "\n",
            "Epoch 00018: val_loss improved from 0.70652 to 0.70216, saving model to model_best.hdf5\n",
            "Epoch 19/40\n",
            "879/879 [==============================] - 176s 200ms/step - loss: 0.4387 - val_loss: 0.6996\n",
            "\n",
            "Epoch 00019: val_loss improved from 0.70216 to 0.69964, saving model to model_best.hdf5\n",
            "Epoch 20/40\n",
            "879/879 [==============================] - 175s 199ms/step - loss: 0.4140 - val_loss: 0.6987\n",
            "\n",
            "Epoch 00020: val_loss improved from 0.69964 to 0.69872, saving model to model_best.hdf5\n",
            "Epoch 21/40\n",
            "879/879 [==============================] - 176s 200ms/step - loss: 0.3914 - val_loss: 0.6972\n",
            "\n",
            "Epoch 00021: val_loss improved from 0.69872 to 0.69718, saving model to model_best.hdf5\n",
            "Epoch 22/40\n",
            "879/879 [==============================] - 175s 200ms/step - loss: 0.3705 - val_loss: 0.6976\n",
            "\n",
            "Epoch 00022: val_loss did not improve from 0.69718\n",
            "Epoch 23/40\n",
            "879/879 [==============================] - 176s 200ms/step - loss: 0.3513 - val_loss: 0.6961\n",
            "\n",
            "Epoch 00023: val_loss improved from 0.69718 to 0.69606, saving model to model_best.hdf5\n",
            "Epoch 24/40\n",
            "879/879 [==============================] - 175s 200ms/step - loss: 0.3333 - val_loss: 0.6964\n",
            "\n",
            "Epoch 00024: val_loss did not improve from 0.69606\n",
            "Epoch 25/40\n",
            "879/879 [==============================] - 175s 199ms/step - loss: 0.3172 - val_loss: 0.6969\n",
            "\n",
            "Epoch 00025: val_loss did not improve from 0.69606\n",
            "Epoch 26/40\n",
            "879/879 [==============================] - 175s 199ms/step - loss: 0.3023 - val_loss: 0.6994\n",
            "\n",
            "Epoch 00026: val_loss did not improve from 0.69606\n",
            "Epoch 27/40\n",
            "879/879 [==============================] - 176s 200ms/step - loss: 0.2885 - val_loss: 0.7015\n",
            "\n",
            "Epoch 00027: val_loss did not improve from 0.69606\n",
            "Epoch 28/40\n",
            "879/879 [==============================] - 175s 199ms/step - loss: 0.2760 - val_loss: 0.7042\n",
            "\n",
            "Epoch 00028: val_loss did not improve from 0.69606\n",
            "Epoch 00028: early stopping\n",
            "Model: \"encoder_decoder_1\"\n",
            "_________________________________________________________________\n",
            "Layer (type)                 Output Shape              Param #   \n",
            "=================================================================\n",
            "encoder_1 (Encoder)          multiple                  3435540   \n",
            "_________________________________________________________________\n",
            "decoder_1 (Decoder)          multiple                  4964404   \n",
            "=================================================================\n",
            "Total params: 8,399,944\n",
            "Trainable params: 8,399,944\n",
            "Non-trainable params: 0\n",
            "_________________________________________________________________\n"
          ]
        }
      ],
      "source": [
        "from keras.layers import Embedding\n",
        "from tensorflow.keras.layers import LSTM\n",
        "from tensorflow.keras.layers import Dense\n",
        "\n",
        "model  = Encoder_decoder(input_length=36,out_vocab_size=vocab_size_sql,inp_vocab_size=vocab_size_question,embedding_size=100,lstm_size=64,batch_size=64,score_fun='dot',att_units=64)\n",
        "optimizer = tf.keras.optimizers.Adam(0.001)\n",
        "model.compile(optimizer=optimizer,loss=custom_lossfunction)\n",
        "train_steps=56266//64\n",
        "valid_steps=8393//64\n",
        "model.fit(train_dataloader, steps_per_epoch=train_steps, batch_size=64,epochs=40, validation_data=val_dataloader, validation_steps=valid_steps,callbacks=callback_list)\n",
        "model.summary()  "
      ]
    },
    {
      "attachments": {},
      "cell_type": "markdown",
      "metadata": {
        "id": "fHMobORZxwm8"
      },
      "source": [
        "**Featurizing Validation Data**"
      ]
    },
    {
      "attachments": {},
      "cell_type": "markdown",
      "metadata": {
        "id": "uq3SFsOhykvs"
      },
      "source": [
        "# Checking model metric on Test Data"
      ]
    },
    {
      "cell_type": "code",
      "execution_count": null,
      "metadata": {
        "colab": {
          "base_uri": "https://localhost:8080/"
        },
        "id": "68MKI61BqDOB",
        "outputId": "15388708-57d8-4258-90bf-fb939e096091"
      },
      "outputs": [
        {
          "name": "stdout",
          "output_type": "stream",
          "text": [
            "Requirement already satisfied: jsonlines in /usr/local/lib/python3.7/dist-packages (2.0.0)\n"
          ]
        }
      ],
      "source": [
        "#Loading Json Train Data\n",
        "!pip install jsonlines\n",
        "import jsonlines\n",
        "phase=[]\n",
        "table_id=[]\n",
        "question=[]\n",
        "sql=[]\n",
        "with jsonlines.open(\"test.jsonl\") as f:\n",
        "  for line in f.iter():\n",
        "    phase.append(line['phase'])\n",
        "    table_id.append(line['table_id'])\n",
        "    question.append(line['question'])\n",
        "    sql.append(line['sql'])\n",
        "import pandas as pd\n",
        "d={'phase':phase,'table_id':table_id,'question':question,'sql':sql}\n",
        "test_data=pd.DataFrame(d)\n",
        "test_data\n",
        "f.close()"
      ]
    },
    {
      "cell_type": "code",
      "execution_count": null,
      "metadata": {
        "id": "hBtThKE_s4Uh"
      },
      "outputs": [],
      "source": [
        "test_data.columns=['phase','id','question','sql']"
      ]
    },
    {
      "cell_type": "code",
      "execution_count": null,
      "metadata": {
        "colab": {
          "base_uri": "https://localhost:8080/",
          "height": 417
        },
        "id": "1eCsulPZs7mD",
        "outputId": "2fec4c09-b0c7-4474-a4d6-f4e2cb2356fc"
      },
      "outputs": [
        {
          "data": {
            "text/html": [
              "<div>\n",
              "<style scoped>\n",
              "    .dataframe tbody tr th:only-of-type {\n",
              "        vertical-align: middle;\n",
              "    }\n",
              "\n",
              "    .dataframe tbody tr th {\n",
              "        vertical-align: top;\n",
              "    }\n",
              "\n",
              "    .dataframe thead th {\n",
              "        text-align: right;\n",
              "    }\n",
              "</style>\n",
              "<table border=\"1\" class=\"dataframe\">\n",
              "  <thead>\n",
              "    <tr style=\"text-align: right;\">\n",
              "      <th></th>\n",
              "      <th>id</th>\n",
              "      <th>header</th>\n",
              "      <th>types</th>\n",
              "      <th>rows</th>\n",
              "    </tr>\n",
              "  </thead>\n",
              "  <tbody>\n",
              "    <tr>\n",
              "      <th>0</th>\n",
              "      <td>1-10015132-16</td>\n",
              "      <td>[Player, No., Nationality, Position, Years in ...</td>\n",
              "      <td>[text, text, text, text, text, text]</td>\n",
              "      <td>[[Aleksandar Radojević, 25, Serbia, Center, 19...</td>\n",
              "    </tr>\n",
              "    <tr>\n",
              "      <th>1</th>\n",
              "      <td>1-10083598-1</td>\n",
              "      <td>[No, Date, Round, Circuit, Pole Position, Fast...</td>\n",
              "      <td>[real, text, text, text, text, text, text, text]</td>\n",
              "      <td>[[1, 24 February, Qatar, Losail, Kevin Curtain...</td>\n",
              "    </tr>\n",
              "    <tr>\n",
              "      <th>2</th>\n",
              "      <td>1-1013129-2</td>\n",
              "      <td>[Pick, Player, Position, Nationality, NHL team...</td>\n",
              "      <td>[real, text, text, text, text, text]</td>\n",
              "      <td>[[27, Rhett Warrener, Defence, Canada, Florida...</td>\n",
              "    </tr>\n",
              "    <tr>\n",
              "      <th>3</th>\n",
              "      <td>1-1013129-3</td>\n",
              "      <td>[Pick, Player, Position, Nationality, NHL team...</td>\n",
              "      <td>[real, text, text, text, text, text]</td>\n",
              "      <td>[[53, Corey Neilson, Defence, Canada, Edmonton...</td>\n",
              "    </tr>\n",
              "    <tr>\n",
              "      <th>4</th>\n",
              "      <td>1-1014206-2</td>\n",
              "      <td>[#, Shipyard, Laid down, Launched, Commissione...</td>\n",
              "      <td>[text, text, text, text, text, text, text]</td>\n",
              "      <td>[[K-166, SEVMASH, Severodvinsk, May 30, 1961, ...</td>\n",
              "    </tr>\n",
              "    <tr>\n",
              "      <th>...</th>\n",
              "      <td>...</td>\n",
              "      <td>...</td>\n",
              "      <td>...</td>\n",
              "      <td>...</td>\n",
              "    </tr>\n",
              "    <tr>\n",
              "      <th>5225</th>\n",
              "      <td>2-19002339-3</td>\n",
              "      <td>[Polling firm, Dates, Prog. Cons., New Democra...</td>\n",
              "      <td>[text, text, text, text, text]</td>\n",
              "      <td>[[2009 Election Results, June 9, 2009, 24.54%,...</td>\n",
              "    </tr>\n",
              "    <tr>\n",
              "      <th>5226</th>\n",
              "      <td>2-19005873-2</td>\n",
              "      <td>[Round, Opposition Team, Venue, Result, Report]</td>\n",
              "      <td>[real, text, text, text, text]</td>\n",
              "      <td>[[1, Melbourne Demons, MCG, Win 23.16 (154) - ...</td>\n",
              "    </tr>\n",
              "    <tr>\n",
              "      <th>5227</th>\n",
              "      <td>2-1900696-1</td>\n",
              "      <td>[Date, Japan, Americas, Other, Total]</td>\n",
              "      <td>[text, text, text, text, text]</td>\n",
              "      <td>[[2005-09-30, 0.41 million, 0.29 million, 0, 0...</td>\n",
              "    </tr>\n",
              "    <tr>\n",
              "      <th>5228</th>\n",
              "      <td>2-19007049-1</td>\n",
              "      <td>[Year, Competition, Venue, Position, Notes]</td>\n",
              "      <td>[real, text, text, text, text]</td>\n",
              "      <td>[[2002, World Junior Championships, Kingston, ...</td>\n",
              "    </tr>\n",
              "    <tr>\n",
              "      <th>5229</th>\n",
              "      <td>2-19007736-1</td>\n",
              "      <td>[Year, Competition, Venue, Position, Notes]</td>\n",
              "      <td>[real, text, text, text, text]</td>\n",
              "      <td>[[2005, World Youth Championships, Marrakesh, ...</td>\n",
              "    </tr>\n",
              "  </tbody>\n",
              "</table>\n",
              "<p>5230 rows × 4 columns</p>\n",
              "</div>"
            ],
            "text/plain": [
              "                 id  ...                                               rows\n",
              "0     1-10015132-16  ...  [[Aleksandar Radojević, 25, Serbia, Center, 19...\n",
              "1      1-10083598-1  ...  [[1, 24 February, Qatar, Losail, Kevin Curtain...\n",
              "2       1-1013129-2  ...  [[27, Rhett Warrener, Defence, Canada, Florida...\n",
              "3       1-1013129-3  ...  [[53, Corey Neilson, Defence, Canada, Edmonton...\n",
              "4       1-1014206-2  ...  [[K-166, SEVMASH, Severodvinsk, May 30, 1961, ...\n",
              "...             ...  ...                                                ...\n",
              "5225   2-19002339-3  ...  [[2009 Election Results, June 9, 2009, 24.54%,...\n",
              "5226   2-19005873-2  ...  [[1, Melbourne Demons, MCG, Win 23.16 (154) - ...\n",
              "5227    2-1900696-1  ...  [[2005-09-30, 0.41 million, 0.29 million, 0, 0...\n",
              "5228   2-19007049-1  ...  [[2002, World Junior Championships, Kingston, ...\n",
              "5229   2-19007736-1  ...  [[2005, World Youth Championships, Marrakesh, ...\n",
              "\n",
              "[5230 rows x 4 columns]"
            ]
          },
          "execution_count": 71,
          "metadata": {},
          "output_type": "execute_result"
        }
      ],
      "source": [
        "import jsonlines\n",
        "id=[]\n",
        "header=[]\n",
        "types=[]\n",
        "rows=[]\n",
        "with jsonlines.open(\"test.tables.jsonl\") as f:\n",
        "  for line in f.iter():\n",
        "    id.append((line['id']))\n",
        "    header.append((line['header']))\n",
        "    types.append((line['types']))\n",
        "    rows.append(line['rows'])\n",
        "d={'id':id,'header':header,'types':types,'rows':rows}\n",
        "test_table_info=pd.DataFrame(d)\n",
        "test_table_info"
      ]
    },
    {
      "cell_type": "code",
      "execution_count": null,
      "metadata": {
        "colab": {
          "base_uri": "https://localhost:8080/",
          "height": 585
        },
        "id": "WNpg4MDNtPZd",
        "outputId": "32f6533e-cf9e-4d24-a424-4d34936740c8"
      },
      "outputs": [
        {
          "data": {
            "text/html": [
              "<div>\n",
              "<style scoped>\n",
              "    .dataframe tbody tr th:only-of-type {\n",
              "        vertical-align: middle;\n",
              "    }\n",
              "\n",
              "    .dataframe tbody tr th {\n",
              "        vertical-align: top;\n",
              "    }\n",
              "\n",
              "    .dataframe thead th {\n",
              "        text-align: right;\n",
              "    }\n",
              "</style>\n",
              "<table border=\"1\" class=\"dataframe\">\n",
              "  <thead>\n",
              "    <tr style=\"text-align: right;\">\n",
              "      <th></th>\n",
              "      <th>phase</th>\n",
              "      <th>id</th>\n",
              "      <th>question</th>\n",
              "      <th>sql</th>\n",
              "      <th>header</th>\n",
              "      <th>types</th>\n",
              "      <th>rows</th>\n",
              "    </tr>\n",
              "  </thead>\n",
              "  <tbody>\n",
              "    <tr>\n",
              "      <th>0</th>\n",
              "      <td>1</td>\n",
              "      <td>1-10015132-16</td>\n",
              "      <td>What is terrence ross' nationality</td>\n",
              "      <td>{'sel': 2, 'conds': [[0, 0, 'Terrence Ross']],...</td>\n",
              "      <td>[Player, No., Nationality, Position, Years in ...</td>\n",
              "      <td>[text, text, text, text, text, text]</td>\n",
              "      <td>[[Aleksandar Radojević, 25, Serbia, Center, 19...</td>\n",
              "    </tr>\n",
              "    <tr>\n",
              "      <th>1</th>\n",
              "      <td>1</td>\n",
              "      <td>1-10015132-16</td>\n",
              "      <td>What clu was in toronto 1995-96</td>\n",
              "      <td>{'sel': 5, 'conds': [[4, 0, '1995-96']], 'agg'...</td>\n",
              "      <td>[Player, No., Nationality, Position, Years in ...</td>\n",
              "      <td>[text, text, text, text, text, text]</td>\n",
              "      <td>[[Aleksandar Radojević, 25, Serbia, Center, 19...</td>\n",
              "    </tr>\n",
              "    <tr>\n",
              "      <th>2</th>\n",
              "      <td>1</td>\n",
              "      <td>1-10015132-16</td>\n",
              "      <td>which club was in toronto 2003-06</td>\n",
              "      <td>{'sel': 5, 'conds': [[4, 0, '2003-06']], 'agg'...</td>\n",
              "      <td>[Player, No., Nationality, Position, Years in ...</td>\n",
              "      <td>[text, text, text, text, text, text]</td>\n",
              "      <td>[[Aleksandar Radojević, 25, Serbia, Center, 19...</td>\n",
              "    </tr>\n",
              "    <tr>\n",
              "      <th>3</th>\n",
              "      <td>1</td>\n",
              "      <td>1-10015132-16</td>\n",
              "      <td>how many schools or teams had jalen rose</td>\n",
              "      <td>{'sel': 5, 'conds': [[0, 0, 'Jalen Rose']], 'a...</td>\n",
              "      <td>[Player, No., Nationality, Position, Years in ...</td>\n",
              "      <td>[text, text, text, text, text, text]</td>\n",
              "      <td>[[Aleksandar Radojević, 25, Serbia, Center, 19...</td>\n",
              "    </tr>\n",
              "    <tr>\n",
              "      <th>4</th>\n",
              "      <td>1</td>\n",
              "      <td>1-10083598-1</td>\n",
              "      <td>Where was Assen held?</td>\n",
              "      <td>{'sel': 2, 'conds': [[3, 0, 'Assen']], 'agg': 0}</td>\n",
              "      <td>[No, Date, Round, Circuit, Pole Position, Fast...</td>\n",
              "      <td>[real, text, text, text, text, text, text, text]</td>\n",
              "      <td>[[1, 24 February, Qatar, Losail, Kevin Curtain...</td>\n",
              "    </tr>\n",
              "    <tr>\n",
              "      <th>...</th>\n",
              "      <td>...</td>\n",
              "      <td>...</td>\n",
              "      <td>...</td>\n",
              "      <td>...</td>\n",
              "      <td>...</td>\n",
              "      <td>...</td>\n",
              "      <td>...</td>\n",
              "    </tr>\n",
              "    <tr>\n",
              "      <th>15873</th>\n",
              "      <td>2</td>\n",
              "      <td>2-1226335-1</td>\n",
              "      <td>After 1972, how many points did Marlboro Team ...</td>\n",
              "      <td>{'sel': 4, 'conds': [[0, 1, 1972], [1, 0, 'mar...</td>\n",
              "      <td>[Year, Entrant, Chassis, Engine, Points]</td>\n",
              "      <td>[real, text, text, text, text]</td>\n",
              "      <td>[[1972, Elf Team Tyrrell, Tyrrell 004, Ford V8...</td>\n",
              "    </tr>\n",
              "    <tr>\n",
              "      <th>15874</th>\n",
              "      <td>2</td>\n",
              "      <td>2-1226335-1</td>\n",
              "      <td>What chassis had 39 points?</td>\n",
              "      <td>{'sel': 2, 'conds': [[4, 0, '39']], 'agg': 0}</td>\n",
              "      <td>[Year, Entrant, Chassis, Engine, Points]</td>\n",
              "      <td>[real, text, text, text, text]</td>\n",
              "      <td>[[1972, Elf Team Tyrrell, Tyrrell 004, Ford V8...</td>\n",
              "    </tr>\n",
              "    <tr>\n",
              "      <th>15875</th>\n",
              "      <td>2</td>\n",
              "      <td>2-1226335-1</td>\n",
              "      <td>How many points did the Ford V8 with a Tyrrell...</td>\n",
              "      <td>{'sel': 4, 'conds': [[3, 0, 'ford v8'], [2, 0,...</td>\n",
              "      <td>[Year, Entrant, Chassis, Engine, Points]</td>\n",
              "      <td>[real, text, text, text, text]</td>\n",
              "      <td>[[1972, Elf Team Tyrrell, Tyrrell 004, Ford V8...</td>\n",
              "    </tr>\n",
              "    <tr>\n",
              "      <th>15876</th>\n",
              "      <td>2</td>\n",
              "      <td>2-1226335-1</td>\n",
              "      <td>Before 1976 and with 12 points, what chassis d...</td>\n",
              "      <td>{'sel': 2, 'conds': [[3, 0, 'ford v8'], [0, 2,...</td>\n",
              "      <td>[Year, Entrant, Chassis, Engine, Points]</td>\n",
              "      <td>[real, text, text, text, text]</td>\n",
              "      <td>[[1972, Elf Team Tyrrell, Tyrrell 004, Ford V8...</td>\n",
              "    </tr>\n",
              "    <tr>\n",
              "      <th>15877</th>\n",
              "      <td>2</td>\n",
              "      <td>2-1226335-1</td>\n",
              "      <td>What year did Elf Team Tyrrell have 39 points ...</td>\n",
              "      <td>{'sel': 0, 'conds': [[1, 0, 'elf team tyrrell'...</td>\n",
              "      <td>[Year, Entrant, Chassis, Engine, Points]</td>\n",
              "      <td>[real, text, text, text, text]</td>\n",
              "      <td>[[1972, Elf Team Tyrrell, Tyrrell 004, Ford V8...</td>\n",
              "    </tr>\n",
              "  </tbody>\n",
              "</table>\n",
              "<p>15878 rows × 7 columns</p>\n",
              "</div>"
            ],
            "text/plain": [
              "       phase  ...                                               rows\n",
              "0          1  ...  [[Aleksandar Radojević, 25, Serbia, Center, 19...\n",
              "1          1  ...  [[Aleksandar Radojević, 25, Serbia, Center, 19...\n",
              "2          1  ...  [[Aleksandar Radojević, 25, Serbia, Center, 19...\n",
              "3          1  ...  [[Aleksandar Radojević, 25, Serbia, Center, 19...\n",
              "4          1  ...  [[1, 24 February, Qatar, Losail, Kevin Curtain...\n",
              "...      ...  ...                                                ...\n",
              "15873      2  ...  [[1972, Elf Team Tyrrell, Tyrrell 004, Ford V8...\n",
              "15874      2  ...  [[1972, Elf Team Tyrrell, Tyrrell 004, Ford V8...\n",
              "15875      2  ...  [[1972, Elf Team Tyrrell, Tyrrell 004, Ford V8...\n",
              "15876      2  ...  [[1972, Elf Team Tyrrell, Tyrrell 004, Ford V8...\n",
              "15877      2  ...  [[1972, Elf Team Tyrrell, Tyrrell 004, Ford V8...\n",
              "\n",
              "[15878 rows x 7 columns]"
            ]
          },
          "execution_count": 72,
          "metadata": {},
          "output_type": "execute_result"
        }
      ],
      "source": [
        "test_merged_data=test_data.merge(test_table_info,on='id')\n",
        "test_merged_data"
      ]
    },
    {
      "cell_type": "code",
      "execution_count": null,
      "metadata": {
        "colab": {
          "base_uri": "https://localhost:8080/"
        },
        "id": "kBFW2mOYti1n",
        "outputId": "cca11921-bb57-44f3-f68b-23df8e3b90b8"
      },
      "outputs": [
        {
          "name": "stderr",
          "output_type": "stream",
          "text": [
            "100%|██████████| 15878/15878 [00:01<00:00, 15387.77it/s]\n"
          ]
        }
      ],
      "source": [
        "#Converting dictionary sql answer into sql text for using in seq-seq model\n",
        "from tqdm import tqdm \n",
        "sql_in_text=[]\n",
        "aggregate=['','MAX','MIN','COUNT','SUM','AVG']\n",
        "operator=['=','<','>']\n",
        "word_operator=['eq','lt','gt']\n",
        "\n",
        "for i in tqdm(range(len(test_merged_data))):\n",
        "  sql=test_merged_data.sql.iloc[i]\n",
        "  col=test_merged_data.header.iloc[i][sql['sel']]\n",
        "  agg=aggregate[sql['agg']]\n",
        "  cond_col=[]\n",
        "  cond_opr=[]\n",
        "  cond_value=[]\n",
        "  for j in sql['conds']:\n",
        "    cond_col.append(test_merged_data.header.iloc[i][j[0]])\n",
        "    cond_opr.append(word_operator[j[1]])\n",
        "    cond_value.append(j[2])\n",
        "  resulted_sql=\"select \"\n",
        "  if(agg==''):\n",
        "    resulted_sql+=col+\" where \"\n",
        "  else:\n",
        "    resulted_sql+=agg+\"(\"+col+\") where \"\n",
        "\n",
        "  for j in range(len(cond_col)):\n",
        "    if(j!=0):\n",
        "      resulted_sql+=\"and \"\n",
        "    resulted_sql+=cond_col[j]+' '+cond_opr[j]+' '\n",
        "    resulted_sql+=str(cond_value[j])+' '\n",
        "\n",
        "  sql_in_text.append(resulted_sql)"
      ]
    },
    {
      "cell_type": "code",
      "execution_count": null,
      "metadata": {
        "id": "XQvcAsOkuJa5"
      },
      "outputs": [],
      "source": [
        "test_merged_data['resulted_sql']=sql_in_text"
      ]
    },
    {
      "cell_type": "code",
      "execution_count": null,
      "metadata": {
        "id": "fKNRnKkCulF8"
      },
      "outputs": [],
      "source": [
        "#Concatinating question and headers\n",
        "question_header=[]\n",
        "for i in range(len(test_merged_data)):\n",
        "  question=test_merged_data.question.iloc[i]\n",
        "  header=test_merged_data.header.iloc[i]\n",
        "  '''a=header.split(',')\n",
        "  for i in range(len(a)):\n",
        "    a[i]=a[i].replace('[','')\n",
        "    a[i]=a[i].replace(\"'\",'')\n",
        "    a[i]=a[i].replace(',','')\n",
        "    a[i]=a[i].replace(']','')'''\n",
        "  for head in header: \n",
        "    question+=' '+head\n",
        "  question_header.append(question)"
      ]
    },
    {
      "cell_type": "code",
      "execution_count": null,
      "metadata": {
        "id": "G6sgoI1LvCA8"
      },
      "outputs": [],
      "source": [
        "import re\n",
        "preprocess_question_header=[]\n",
        "for i in question_header:\n",
        "  preprocess_question_header.append(preprocess(i))"
      ]
    },
    {
      "cell_type": "code",
      "execution_count": null,
      "metadata": {
        "id": "CHmz9oyKvHp6"
      },
      "outputs": [],
      "source": [
        "preprocess_sql_in_text=[]\n",
        "for i in test_merged_data['resulted_sql'].values:\n",
        "  preprocess_sql_in_text.append(preprocess(i))"
      ]
    },
    {
      "cell_type": "code",
      "execution_count": null,
      "metadata": {
        "colab": {
          "base_uri": "https://localhost:8080/",
          "height": 417
        },
        "id": "arnZ8c7DvZ3e",
        "outputId": "b878683b-ceca-4895-981c-33a0857f2d91"
      },
      "outputs": [
        {
          "data": {
            "text/html": [
              "<div>\n",
              "<style scoped>\n",
              "    .dataframe tbody tr th:only-of-type {\n",
              "        vertical-align: middle;\n",
              "    }\n",
              "\n",
              "    .dataframe tbody tr th {\n",
              "        vertical-align: top;\n",
              "    }\n",
              "\n",
              "    .dataframe thead th {\n",
              "        text-align: right;\n",
              "    }\n",
              "</style>\n",
              "<table border=\"1\" class=\"dataframe\">\n",
              "  <thead>\n",
              "    <tr style=\"text-align: right;\">\n",
              "      <th></th>\n",
              "      <th>question_header</th>\n",
              "      <th>sql</th>\n",
              "    </tr>\n",
              "  </thead>\n",
              "  <tbody>\n",
              "    <tr>\n",
              "      <th>0</th>\n",
              "      <td>What is terrence ross' nationality Player No. ...</td>\n",
              "      <td>select nationality where player eq terrence ross</td>\n",
              "    </tr>\n",
              "    <tr>\n",
              "      <th>1</th>\n",
              "      <td>What clu was in toronto 1995-96 Player No. Nat...</td>\n",
              "      <td>select school/club team where years in toronto...</td>\n",
              "    </tr>\n",
              "    <tr>\n",
              "      <th>2</th>\n",
              "      <td>which club was in toronto 2003-06 Player No. N...</td>\n",
              "      <td>select school/club team where years in toronto...</td>\n",
              "    </tr>\n",
              "    <tr>\n",
              "      <th>3</th>\n",
              "      <td>how many schools or teams had jalen rose Playe...</td>\n",
              "      <td>select count(school/club team) where player eq...</td>\n",
              "    </tr>\n",
              "    <tr>\n",
              "      <th>4</th>\n",
              "      <td>Where was Assen held? No Date Round Circuit Po...</td>\n",
              "      <td>select round where circuit eq assen</td>\n",
              "    </tr>\n",
              "    <tr>\n",
              "      <th>...</th>\n",
              "      <td>...</td>\n",
              "      <td>...</td>\n",
              "    </tr>\n",
              "    <tr>\n",
              "      <th>15873</th>\n",
              "      <td>After 1972, how many points did Marlboro Team ...</td>\n",
              "      <td>select points where year lt 1972 and entrant e...</td>\n",
              "    </tr>\n",
              "    <tr>\n",
              "      <th>15874</th>\n",
              "      <td>What chassis had 39 points? Year Entrant Chass...</td>\n",
              "      <td>select chassis where points eq 39</td>\n",
              "    </tr>\n",
              "    <tr>\n",
              "      <th>15875</th>\n",
              "      <td>How many points did the Ford V8 with a Tyrrell...</td>\n",
              "      <td>select points where engine eq ford v8 and chas...</td>\n",
              "    </tr>\n",
              "    <tr>\n",
              "      <th>15876</th>\n",
              "      <td>Before 1976 and with 12 points, what chassis d...</td>\n",
              "      <td>select chassis where engine eq ford v8 and yea...</td>\n",
              "    </tr>\n",
              "    <tr>\n",
              "      <th>15877</th>\n",
              "      <td>What year did Elf Team Tyrrell have 39 points ...</td>\n",
              "      <td>select sum(year) where entrant eq elf team tyr...</td>\n",
              "    </tr>\n",
              "  </tbody>\n",
              "</table>\n",
              "<p>15878 rows × 2 columns</p>\n",
              "</div>"
            ],
            "text/plain": [
              "                                         question_header                                                sql\n",
              "0      What is terrence ross' nationality Player No. ...  select nationality where player eq terrence ross \n",
              "1      What clu was in toronto 1995-96 Player No. Nat...  select school/club team where years in toronto...\n",
              "2      which club was in toronto 2003-06 Player No. N...  select school/club team where years in toronto...\n",
              "3      how many schools or teams had jalen rose Playe...  select count(school/club team) where player eq...\n",
              "4      Where was Assen held? No Date Round Circuit Po...               select round where circuit eq assen \n",
              "...                                                  ...                                                ...\n",
              "15873  After 1972, how many points did Marlboro Team ...  select points where year lt 1972 and entrant e...\n",
              "15874  What chassis had 39 points? Year Entrant Chass...                 select chassis where points eq 39 \n",
              "15875  How many points did the Ford V8 with a Tyrrell...  select points where engine eq ford v8 and chas...\n",
              "15876  Before 1976 and with 12 points, what chassis d...  select chassis where engine eq ford v8 and yea...\n",
              "15877  What year did Elf Team Tyrrell have 39 points ...  select sum(year) where entrant eq elf team tyr...\n",
              "\n",
              "[15878 rows x 2 columns]"
            ]
          },
          "execution_count": 78,
          "metadata": {},
          "output_type": "execute_result"
        }
      ],
      "source": [
        "test_final_data=pd.DataFrame()\n",
        "test_final_data['question_header']=question_header\n",
        "test_final_data['sql']=preprocess_sql_in_text\n",
        "test_final_data"
      ]
    },
    {
      "cell_type": "code",
      "execution_count": null,
      "metadata": {
        "id": "RUT-HC4Gvq6C"
      },
      "outputs": [],
      "source": [
        "test_final_data.to_csv(\"test_final_data.csv\")"
      ]
    },
    {
      "cell_type": "code",
      "execution_count": null,
      "metadata": {
        "id": "XPU5dk9r0SJA"
      },
      "outputs": [],
      "source": [
        "test_final_data=pd.read_csv(\"test_final_data.csv\")"
      ]
    },
    {
      "cell_type": "code",
      "execution_count": null,
      "metadata": {
        "id": "qjrBOH_M2wM7"
      },
      "outputs": [],
      "source": [
        "def predict(input_sentence,model):\n",
        "\n",
        "  '''\n",
        "  A. Given input sentence, convert the sentence into integers using tokenizer used earlier\n",
        "  B. Pass the input_sequence to encoder. we get encoder_outputs, last time step hidden and cell state\n",
        "  C. Initialize index of <start> as input to decoder. and encoder final states as input_states to onestepdecoder.\n",
        "  D. till we reach max_length of decoder or till the model predicted word <end>:\n",
        "         predictions, input_states, attention_weights = model.layers[1].onestepdecoder(input_to_decoder, encoder_output, input_states)\n",
        "         Save the attention weights\n",
        "         And get the word using the tokenizer(word index) and then store it in a string.\n",
        "  E. Call plot_attention(#params)\n",
        "  F. Return the predicted sentence\n",
        "  '''\n",
        "  encoder_seq = tknizer_question.texts_to_sequences([input_sentence]) # step A tokenization\n",
        "  encoder_seq_pad = pad_sequences(encoder_seq, maxlen=61, dtype='int32', padding='post')  #padding\n",
        "  #above max length =20\n",
        "\n",
        "  initial_state=model.layers[0].initialize_states(1)  #batch_size==1\n",
        "  enc_out,dec_state_h,dec_state_c=model.layers[0](encoder_seq_pad ,initial_state)\n",
        "  start_index=tknizer_sql.word_index['<start>']\n",
        "  dec_inp=tf.expand_dims([start_index],0)   #step C\n",
        "\n",
        "  result_final=''  #to store decoder output at each time stamp\n",
        "\n",
        "  #since  max_length=20 for both ita and eng hence\n",
        "  #att_plot=np.zeros((61,36))  # for attention plot \n",
        "\n",
        "  for index in range(0,36):   #to all input text word each timestamp\n",
        "    #dec_states=dec_state_h,dec_state_c\n",
        "    dec_out,dec_state_h,dec_state_c,att_weights,context_vector=model.layers[1].one_step_decoder(dec_inp,enc_out,dec_state_h,dec_state_c)\n",
        "    att_weights=tf.reshape(att_weights,(-1,))\n",
        "    #att_plot[index]=att_weights.numpy()\n",
        "    predicted_id=tf.argmax(dec_out[0]).numpy()\n",
        "    \n",
        "    dec_inp=tf.expand_dims([predicted_id],0)   #i/p to decoder  is word with max prob \n",
        "    #print(dec_inp.numpy()[0][0])  #its a number so using index_word not word_index\n",
        "\n",
        "    word_pred=tknizer_sql.index_word[predicted_id]  #predicted word\n",
        "    result_final+=word_pred+' '\n",
        "    if tknizer_sql.index_word[predicted_id]=='<end>': #if last word (or end) is encountered => we got our translated seq\n",
        "      break\n",
        "     \n",
        "  return  input_sentence,result_final\n",
        "\n",
        "  "
      ]
    },
    {
      "cell_type": "code",
      "execution_count": null,
      "metadata": {
        "id": "T9fKr3z9iATe"
      },
      "outputs": [],
      "source": [
        "import keras\n",
        "from keras.layers import Embedding\n",
        "from tensorflow.keras.layers import LSTM\n",
        "from tensorflow.keras.layers import Dense\n",
        "#loading pretrained model\n",
        "dot_model  = Encoder_decoder(input_length=36,out_vocab_size=vocab_size_sql,inp_vocab_size=vocab_size_question,embedding_size=100,lstm_size=64,batch_size=64,score_fun='dot',att_units=64)\n",
        "optimizer = tf.keras.optimizers.Adam(0.001)\n",
        "dot_model.compile(optimizer=optimizer,loss=custom_lossfunction)\n",
        "train_steps=56266//64\n",
        "valid_steps=8393//64\n",
        "dot_model.fit(train_dataloader,steps_per_epoch=train_steps,epochs=0)\n",
        "dot_model.load_weights('/content/dot_attention_model.hdf5')"
      ]
    },
    {
      "cell_type": "code",
      "execution_count": null,
      "metadata": {
        "colab": {
          "base_uri": "https://localhost:8080/"
        },
        "id": "bMFbM_qOQNho",
        "outputId": "5e299daf-af96-4d41-c936-9d79f250aa8c"
      },
      "outputs": [
        {
          "name": "stderr",
          "output_type": "stream",
          "text": [
            "  0%|          | 0/1000 [00:00<?, ?it/s]/usr/local/lib/python3.7/dist-packages/nltk/translate/bleu_score.py:490: UserWarning: \n",
            "Corpus/Sentence contains 0 counts of 2-gram overlaps.\n",
            "BLEU scores might be undesirable; use SmoothingFunction().\n",
            "  warnings.warn(_msg)\n",
            "  2%|▏         | 17/1000 [00:07<06:53,  2.38it/s]/usr/local/lib/python3.7/dist-packages/nltk/translate/bleu_score.py:490: UserWarning: \n",
            "Corpus/Sentence contains 0 counts of 3-gram overlaps.\n",
            "BLEU scores might be undesirable; use SmoothingFunction().\n",
            "  warnings.warn(_msg)\n",
            "100%|██████████| 1000/1000 [06:49<00:00,  2.44it/s]"
          ]
        },
        {
          "name": "stdout",
          "output_type": "stream",
          "text": [
            "\n",
            "**bleu score=** 0.5301484950077175\n"
          ]
        },
        {
          "name": "stderr",
          "output_type": "stream",
          "text": [
            "\n"
          ]
        }
      ],
      "source": [
        "import random\n",
        "import nltk.translate.bleu_score as b_scr\n",
        "from tqdm import tqdm\n",
        "score=[]   #lists of 1000 blue_scores \n",
        "for i in tqdm(range(0,1000)):  \n",
        "  rand_ind=random.randint(1,len(test_final_data))   # random sentences\n",
        "  trans=predict(test_final_data.question_header.iloc[rand_ind],model)[1].split()  #sentnc predicted by model \n",
        "  ref=test_final_data.sql.iloc[rand_ind].split()   #original sentc\n",
        "  score.append(b_scr.sentence_bleu([ref],trans))   #bleu score of sentence\n",
        "\n",
        "print()\n",
        "\n",
        "sum=0   #sum of all 1000 bleu scores\n",
        "for scr in score:\n",
        "  sum+=scr\n",
        "print('**bleu score=**',sum/1000)   #avg of 1000 bleu scores"
      ]
    },
    {
      "cell_type": "code",
      "execution_count": null,
      "metadata": {
        "colab": {
          "base_uri": "https://localhost:8080/"
        },
        "id": "VB1hjTEfCrZc",
        "outputId": "158c40f9-ee27-40a0-b01f-39249a0a7a6f"
      },
      "outputs": [
        {
          "name": "stderr",
          "output_type": "stream",
          "text": [
            "WARNING:absl:Found untraced functions such as lstm_cell_13_layer_call_fn, lstm_cell_13_layer_call_and_return_conditional_losses, lstm_cell_13_layer_call_fn, lstm_cell_13_layer_call_and_return_conditional_losses, lstm_cell_13_layer_call_and_return_conditional_losses while saving (showing 5 of 25). These functions will not be directly callable after loading.\n"
          ]
        },
        {
          "name": "stdout",
          "output_type": "stream",
          "text": [
            "INFO:tensorflow:Assets written to: general_attention_model/assets\n"
          ]
        },
        {
          "name": "stderr",
          "output_type": "stream",
          "text": [
            "INFO:tensorflow:Assets written to: general_attention_model/assets\n"
          ]
        }
      ],
      "source": [
        "model.save('general_attention_model')"
      ]
    },
    {
      "attachments": {},
      "cell_type": "markdown",
      "metadata": {
        "id": "WWDeL8KkI89B"
      },
      "source": [
        "Blue Score: 0.58 using simple encoder decoder\n",
        "\n",
        "Bleu Score: 0.53 by using encoder decoder with dot score attention layer\n",
        "\n",
        "Bleu Score: 0.44 by using encoder decoder with general score attention\n",
        "\n",
        "Bleu Score: 0.34 by using encoder decoder with concat score attention\n"
      ]
    },
    {
      "cell_type": "code",
      "execution_count": null,
      "metadata": {
        "colab": {
          "base_uri": "https://localhost:8080/"
        },
        "id": "UZOOpqB9hiHM",
        "outputId": "36d052ac-4acd-4011-ebfe-baf32e91e356"
      },
      "outputs": [
        {
          "name": "stdout",
          "output_type": "stream",
          "text": [
            "Question:      What is terrence ross' nationality Player No. Nationality Position Years in Toronto School/Club Team\n",
            "True sql:      ['select', 'nationality', 'where', 'player', 'eq', 'terrence', 'ross']\n",
            "predicted sql: ['select', 'lt', '9', '70', '7', 'differential', 'where', 'min', 'loss', 'where', 'home', 'date', 'eq', '13', 'eq', '1', '17', '1', '13', '13', '13', '13', '13', '13', '13', 'away', 'where', 'min', 'l', 'min', 'l', 'min', 'games', 'eq', 'eq', 'eq']\n",
            "predicted sql len: 36\n",
            "\n",
            "Question:      What clu was in toronto 1995-96 Player No. Nationality Position Years in Toronto School/Club Team\n",
            "True sql:      ['select', 'school/club', 'team', 'where', 'years', 'in', 'toronto', 'eq', '1995-96']\n",
            "predicted sql: ['select', 'lt', '10', '70', '7', '7', 'differential', 'where', 'min', 'loss', 'where', 'score', 'where', 'home', 'lt', '83', '4', 'and', 'min', '2008–09', 'eq', '13', '1', '8', '13', '13', '8', '13', '13', '13', '13', '13', '13', '13', '7', 'differential']\n",
            "predicted sql len: 36\n",
            "\n",
            "Question:      which club was in toronto 2003-06 Player No. Nationality Position Years in Toronto School/Club Team\n",
            "True sql:      ['select', 'school/club', 'team', 'where', 'years', 'in', 'toronto', 'eq', '2003-06']\n",
            "predicted sql: ['select', 'crowd', 'lt', '13', '10', '13', '10', '13', '7', '13', '7', '39', 'min', 'lt', '68', '7', '7', 'differential', 'where', 'min', 'loss', 'where', 'score', 'where', 'home', 'date', 'eq', '13', 'eq', '1', '17', '1', '13', '13', '13', '13']\n",
            "predicted sql len: 36\n",
            "\n",
            "Question:      how many schools or teams had jalen rose Player No. Nationality Position Years in Toronto School/Club Team\n",
            "True sql:      ['select', 'count(school/club', 'team)', 'where', 'player', 'eq', 'jalen', 'rose']\n",
            "predicted sql: ['select', 'no', 'lt', '13', '13', '7', '39', '<end>']\n",
            "predicted sql len: 8\n",
            "\n",
            "Question:      Where was Assen held? No Date Round Circuit Pole Position Fastest Lap Race winner Report\n",
            "True sql:      ['select', 'round', 'where', 'circuit', 'eq', 'assen']\n",
            "predicted sql: ['select', 'no', 'lt', '13', '13', '8', '39', 'min', 'lt', '70', '70', '70', '70', '70', '70', '70', '70', '70', '70', '70', '0', '<end>']\n",
            "predicted sql len: 22\n",
            "\n",
            "Question:      What was the number of race that Kevin Curtain won? No Date Round Circuit Pole Position Fastest Lap Race winner Report\n",
            "True sql:      ['select', 'count(no)', 'where', 'pole', 'position', 'eq', 'kevin', 'curtain']\n",
            "predicted sql: ['select', 'no', 'lt', '13', '4', '13', '8', '13', '8', '13', '8', '13', '8', '13', '13', '8', '13', '13', '13', '13', '7', 'differential', 'where', 'team', 'site', 'eq', '17', 'and', 'lt', '70', '70', '70', '70', '<end>']\n",
            "predicted sql len: 34\n",
            "\n",
            "Question:      What was the date of the race in Misano? No Date Round Circuit Pole Position Fastest Lap Race winner Report\n",
            "True sql:      ['select', 'date', 'where', 'circuit', 'eq', 'misano']\n",
            "predicted sql: ['select', 'no', 'lt', '13', '10', '13', '8', '13', '8', '13', '8', '13', '8', '13', '8', '244', 'eq', '39', 'where', 'min', 'l', 'min', 'differential', 'where', 'score', 'where', 'of', 'home', 'canberra', 'eq', '16', '10', 'differential', 'where', 'team', 'eq']\n",
            "predicted sql len: 36\n",
            "\n",
            "Question:      How many different positions did Sherbrooke Faucons (qmjhl) provide in the draft? Pick Player Position Nationality NHL team College/junior/club team\n",
            "True sql:      ['select', 'count(position)', 'where', 'college/junior/club', 'team', 'eq', 'sherbrooke', 'faucons', '(qmjhl)']\n",
            "predicted sql: ['select', 'lt', '9', '70', '70', '70', '70', '70', '70', '7', '52', '<end>']\n",
            "predicted sql len: 12\n",
            "\n",
            "Question:      What are the nationalities of the player picked from Thunder Bay Flyers (ushl) Pick Player Position Nationality NHL team College/junior/club team\n",
            "True sql:      ['select', 'nationality', 'where', 'college/junior/club', 'team', 'eq', 'thunder', 'bay', 'flyers', '(ushl)']\n",
            "predicted sql: ['select', 'lt', '70', '70', '70', '70', '70', '70', '70', '70', '70', '<end>']\n",
            "predicted sql len: 12\n",
            "\n",
            "Question:      How many different college/junior/club teams provided a player to the Washington Capitals NHL Team? Pick Player Position Nationality NHL team College/junior/club team\n",
            "True sql:      ['select', 'count(college/junior/club', 'team)', 'where', 'nhl', 'team', 'eq', 'washington', 'capitals']\n",
            "predicted sql: ['select', 'lt', '12', '70', '70', '70', '70', '70', '<end>']\n",
            "predicted sql len: 9\n",
            "\n"
          ]
        }
      ],
      "source": [
        "for i in range(10):\n",
        "  sql_predict=predict(test_final_data.question_header.iloc[i],dot_model)\n",
        "  print(\"Question:     \",test_final_data.question_header.iloc[i])\n",
        "  print(\"True sql:     \",test_final_data.sql.iloc[i].split())\n",
        "  print(\"predicted sql:\",sql_predict[1].split())\n",
        "  print(\"predicted sql len:\",len(sql_predict[1].split()))\n",
        "  print()"
      ]
    }
  ],
  "metadata": {
    "accelerator": "GPU",
    "colab": {
      "name": "TexttoSQL_withAttentionLayer.ipynb",
      "provenance": []
    },
    "kernelspec": {
      "display_name": "Python 3",
      "name": "python3"
    },
    "language_info": {
      "name": "python"
    }
  },
  "nbformat": 4,
  "nbformat_minor": 0
}
